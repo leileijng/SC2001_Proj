{
 "cells": [
  {
   "cell_type": "markdown",
   "id": "4556693f",
   "metadata": {},
   "source": [
    "# Project 2: The Dijkstra’s Algorithm"
   ]
  },
  {
   "cell_type": "markdown",
   "id": "0c85e09f",
   "metadata": {},
   "source": [
    "## Part (a): Adjacency Matrix \n",
    "Suppose the input graph G = (V, E) is stored in an adjacency matrix and we\n",
    "use an array for the priority queue. Implement the Dijkstra’s algorithm using this\n",
    "setting and analyze its time complexity with respect to |V| and |E| both\n",
    "theoretically and empirically. "
   ]
  },
  {
   "cell_type": "markdown",
   "id": "721d5961",
   "metadata": {},
   "source": [
    "## Sample Data\n"
   ]
  },
  {
   "cell_type": "code",
   "execution_count": 1,
   "id": "734ab9f4",
   "metadata": {},
   "outputs": [],
   "source": [
    "V_data = 5\n",
    "E_data = [(0, 1, 2), (0, 2, 5), (0, 3, 4), (1, 2, 2), (1, 4, 5), (2, 4, 2), (3, 4, 3)]  # each edge is (start, end, value)"
   ]
  },
  {
   "cell_type": "markdown",
   "id": "4eef8933",
   "metadata": {},
   "source": [
    "### Priority Queue Data Structure (using array)"
   ]
  },
  {
   "cell_type": "code",
   "execution_count": 2,
   "id": "9c5c0e08",
   "metadata": {},
   "outputs": [],
   "source": [
    "class priority_queue_array:\n",
    "    def __init__(self, length: int):\n",
    "        self.len = length\n",
    "        self.arr = [float('infinity')] * length #default - all infinity \n",
    "        self.arr[0] = 0\n",
    "        \n",
    "    def getQ(self):\n",
    "        return self.arr\n",
    "    \n",
    "    def isempty(self):\n",
    "        for u in range(self.len) :\n",
    "            if self.arr[u] != float('infinity') :\n",
    "                return False\n",
    "        return True\n",
    "        \n",
    "    def pop(self) -> int: #find the one with minimum key val\n",
    "        min_val = float('infinity')\n",
    "        position = -1 \n",
    "        for u in range(self.len) :\n",
    "            if self.arr[u] < min_val :\n",
    "                min_val = self.arr[u]\n",
    "                position = u\n",
    "        self.arr[position] = float('infinity') #pop it\n",
    "        return position\n",
    "        \n",
    "    def update(self, u, value):\n",
    "        self.arr[u] = value\n",
    "        "
   ]
  },
  {
   "cell_type": "markdown",
   "id": "c822034e",
   "metadata": {},
   "source": [
    "- The implementation of array for min-priority queue makes it performance worse than heap structure\n",
    "- Time Complexity yields O(n)"
   ]
  },
  {
   "cell_type": "code",
   "execution_count": 3,
   "id": "d90a0536",
   "metadata": {},
   "outputs": [
    {
     "name": "stdout",
     "output_type": "stream",
     "text": [
      "\n",
      "Minimum Path Weights:\n",
      "0 : 0\n",
      "1 : 2\n",
      "2 : 4\n",
      "3 : 4\n",
      "4 : 6\n"
     ]
    }
   ],
   "source": [
    "def dijkstra_1(V: int, E: list):\n",
    "    '''\n",
    "        No need to keep track of visited vertices since we after visiting a vertex, we 'pop' it from the priority queue\n",
    "    '''\n",
    "    # Dijkstra does not work with negative weight edges: assign -1 to denote missing edge between two vertices\n",
    "    adjMatrix = [[-1] * V for i in range(V)]\n",
    "    for (sourceVertex, otherVertex, weight) in E:\n",
    "        adjMatrix[sourceVertex][otherVertex] = weight\n",
    "        adjMatrix[otherVertex][sourceVertex] = weight\n",
    "    \n",
    "    # Initialize array which holds total weight of a path from source vertex to every vertex\n",
    "    d = [float('infinity')] * V\n",
    "    d[0] = 0 #source vertex \n",
    " \n",
    "    pq = priority_queue_array(V)\n",
    "    #print(\"   Path Weights \\tPriorityQ\")\n",
    "    \n",
    "    def toUpdatePathWeight(currentV: int, neighbor: int) -> bool:\n",
    "        return adjMatrix[currentV][neighbor] != -1 and d[currentV] + adjMatrix[currentV][neighbor] < d[neighbor]\n",
    "    \n",
    "    while not pq.isempty():\n",
    "        currentV = pq.pop() # Extract vertex with minimum path weight\n",
    "        for neighbor in range(V):\n",
    "            if toUpdatePathWeight(currentV, neighbor):\n",
    "                d[neighbor] = d[currentV] + adjMatrix[currentV][neighbor]\n",
    "                pq.update(neighbor, d[neighbor])\n",
    "        #print(f'{currentV} {d} \\t{pq.getQ()}')\n",
    "\n",
    "    return d\n",
    "\n",
    "minPathWeights = dijkstra_1(V_data, E_data)\n",
    "\n",
    "print()\n",
    "print('Minimum Path Weights:')\n",
    "for index, pathWeight in enumerate(minPathWeights):\n",
    "    print(index,':',pathWeight)"
   ]
  },
  {
   "cell_type": "markdown",
   "id": "8456f7ce",
   "metadata": {},
   "source": [
    "`Theoretical Time Complexity Analysis`: \n",
    "- the while loop would iterate for $V$ times\n",
    "- within each iteration, it again iterate whole priority_queue_array and the edges of adjacency matrix which cost $O(V)$\n",
    "- the total time complexity is $O(V^2)$"
   ]
  },
  {
   "cell_type": "code",
   "execution_count": 4,
   "id": "7556ae74",
   "metadata": {},
   "outputs": [
    {
     "data": {
      "text/html": [
       "<div>\n",
       "<style scoped>\n",
       "    .dataframe tbody tr th:only-of-type {\n",
       "        vertical-align: middle;\n",
       "    }\n",
       "\n",
       "    .dataframe tbody tr th {\n",
       "        vertical-align: top;\n",
       "    }\n",
       "\n",
       "    .dataframe thead th {\n",
       "        text-align: right;\n",
       "    }\n",
       "</style>\n",
       "<table border=\"1\" class=\"dataframe\">\n",
       "  <thead>\n",
       "    <tr style=\"text-align: right;\">\n",
       "      <th></th>\n",
       "      <th>V</th>\n",
       "      <th>time</th>\n",
       "      <th>time / (V^2)</th>\n",
       "    </tr>\n",
       "  </thead>\n",
       "  <tbody>\n",
       "    <tr>\n",
       "      <th>0</th>\n",
       "      <td>5000</td>\n",
       "      <td>6.310909</td>\n",
       "      <td>2.524364e-07</td>\n",
       "    </tr>\n",
       "    <tr>\n",
       "      <th>1</th>\n",
       "      <td>6000</td>\n",
       "      <td>9.059520</td>\n",
       "      <td>2.516533e-07</td>\n",
       "    </tr>\n",
       "    <tr>\n",
       "      <th>2</th>\n",
       "      <td>7000</td>\n",
       "      <td>12.351383</td>\n",
       "      <td>2.520690e-07</td>\n",
       "    </tr>\n",
       "    <tr>\n",
       "      <th>3</th>\n",
       "      <td>8000</td>\n",
       "      <td>16.338415</td>\n",
       "      <td>2.552877e-07</td>\n",
       "    </tr>\n",
       "    <tr>\n",
       "      <th>4</th>\n",
       "      <td>9000</td>\n",
       "      <td>20.176415</td>\n",
       "      <td>2.490915e-07</td>\n",
       "    </tr>\n",
       "    <tr>\n",
       "      <th>5</th>\n",
       "      <td>10000</td>\n",
       "      <td>24.945998</td>\n",
       "      <td>2.494600e-07</td>\n",
       "    </tr>\n",
       "  </tbody>\n",
       "</table>\n",
       "</div>"
      ],
      "text/plain": [
       "       V       time  time / (V^2)\n",
       "0   5000   6.310909  2.524364e-07\n",
       "1   6000   9.059520  2.516533e-07\n",
       "2   7000  12.351383  2.520690e-07\n",
       "3   8000  16.338415  2.552877e-07\n",
       "4   9000  20.176415  2.490915e-07\n",
       "5  10000  24.945998  2.494600e-07"
      ]
     },
     "execution_count": 4,
     "metadata": {},
     "output_type": "execute_result"
    }
   ],
   "source": [
    "import pandas as pd\n",
    "import random\n",
    "import timeit\n",
    "\n",
    "Vs = [5000, 6000, 7000, 8000, 9000, 10000]\n",
    "time = []\n",
    "sigma = []\n",
    "for V in Vs:\n",
    "    E = []\n",
    "    for u in range(0, V - 1):\n",
    "        E.append((u, u + 1, random.randint(1, 1000)))\n",
    "    for i in range(10):\n",
    "        for u in range(1, V):\n",
    "            E.append((random.randint(0, u - 1), u, random.randint(1, 1000000)))\n",
    "    start_time = timeit.default_timer()\n",
    "    dijkstra_1(V, E)\n",
    "    end_time = timeit.default_timer()\n",
    "    time.append(end_time - start_time)\n",
    "    sigma.append((end_time - start_time) / (V * V))\n",
    "\n",
    "df_V = pd.DataFrame({'V':Vs, 'time':time, 'time / (V^2)':sigma})\n",
    "df_V"
   ]
  },
  {
   "cell_type": "markdown",
   "id": "8b5b59e2",
   "metadata": {},
   "source": [
    "- Empirically, we found that the runtime divided by $V^2$ is approximately constant, thus the time complexity is positively related to square $V$."
   ]
  },
  {
   "cell_type": "markdown",
   "id": "ad76ea58",
   "metadata": {},
   "source": []
  },
  {
   "cell_type": "markdown",
   "id": "eccdec15",
   "metadata": {},
   "source": [
    "## Part (b): Adjacency List \n",
    "Suppose the input graph G = (V, E) is stored in an array of adjacency lists and\n",
    "we use a minimizing `heap` for the priority queue. Implement the Dijkstra’s\n",
    "algorithm using this setting and analyze its time complexity with respect to |V|\n",
    "and |E| both theoretically and empirically. "
   ]
  },
  {
   "cell_type": "code",
   "execution_count": 8,
   "id": "1c076743",
   "metadata": {},
   "outputs": [
    {
     "data": {
      "text/plain": [
       "6"
      ]
     },
     "execution_count": 8,
     "metadata": {},
     "output_type": "execute_result"
    }
   ],
   "source": [
    "import heapq as pq\n",
    "\n",
    "def dijkstra_2(V, E):\n",
    "    # store the E into adjacency list\n",
    "    edge = []\n",
    "    for i in range(V): \n",
    "        edge.append([])\n",
    "    for (start, end, value) in E :\n",
    "        edge[start].append((end, value))\n",
    "    #print(edge)\n",
    "    # initialize the priority queue\n",
    "    d = [float('inf')] * V # initialize the distance array with value of infinity\n",
    "    d[0] = 0\n",
    "    li = [(0, 0)] #(vertex, path_weight)\n",
    "    pq.heapify(li) \n",
    "    \n",
    "    visited = [False] * V\n",
    "    while (True) :\n",
    "        u = pq.heappop(li)[1] #based on path_weight\n",
    "        if visited[u] == True : continue\n",
    "        else : visited[u] = True\n",
    "        if u == V - 1 : break #last vertex\n",
    "        for (v, value) in edge[u] : #relax neighbors\n",
    "            if d[v] > d[u] + value :\n",
    "                d[v] = d[u] + value\n",
    "                pq.heappush(li, (d[v], v))\n",
    "    return d[V - 1]\n",
    "    \n",
    "dijkstra_2(V_data, E_data)    "
   ]
  },
  {
   "cell_type": "markdown",
   "id": "63a260fc",
   "metadata": {},
   "source": [
    "- the while loop would iterate for $(V + E)$ times, however each time it only cost $O(\\log V)$ to find the minimum distance in the priority_queue_heap. Thus, the total time complexity is $O((V + E) \\log V)$"
   ]
  },
  {
   "cell_type": "markdown",
   "id": "de1dff4c",
   "metadata": {},
   "source": [
    "-- <B> empirical time complexity please</B> -- hint, refer to part a "
   ]
  },
  {
   "cell_type": "markdown",
   "id": "bfec16f4",
   "metadata": {},
   "source": []
  },
  {
   "cell_type": "markdown",
   "id": "ce444abe",
   "metadata": {},
   "source": [
    "### (c) Compare the two implementations in (a) and (b). Discuss which implementation is better and in what circumstances. "
   ]
  },
  {
   "cell_type": "markdown",
   "id": "0ad4c711",
   "metadata": {},
   "source": [
    "- For (a), the while loop would iterate for $V$ times, each time it would iterate whole priority_queue_array and the edges of adjacency matrix which cost $O(V)$. Thus, the total time complexity is $O(V^2)$\n",
    "- For (b), the while loop would iterate for $(V + E)$ times, however each time it only cost $O(\\log V)$ to find the minimum distance in the priority_queue_heap. Thus, the total time complexity is $O((V + E) \\log V)$\n",
    "- Therefore, when $V << E$, (a) would be better, otherwise (b) would be better."
   ]
  },
  {
   "cell_type": "code",
   "execution_count": 9,
   "id": "61416bf6",
   "metadata": {},
   "outputs": [
    {
     "data": {
      "text/html": [
       "<div>\n",
       "<style scoped>\n",
       "    .dataframe tbody tr th:only-of-type {\n",
       "        vertical-align: middle;\n",
       "    }\n",
       "\n",
       "    .dataframe tbody tr th {\n",
       "        vertical-align: top;\n",
       "    }\n",
       "\n",
       "    .dataframe thead th {\n",
       "        text-align: right;\n",
       "    }\n",
       "</style>\n",
       "<table border=\"1\" class=\"dataframe\">\n",
       "  <thead>\n",
       "    <tr style=\"text-align: right;\">\n",
       "      <th></th>\n",
       "      <th>V</th>\n",
       "      <th>E</th>\n",
       "      <th>time_dijkstra_1</th>\n",
       "      <th>time_dijkstra_2</th>\n",
       "    </tr>\n",
       "  </thead>\n",
       "  <tbody>\n",
       "    <tr>\n",
       "      <th>0</th>\n",
       "      <td>1000</td>\n",
       "      <td>1998</td>\n",
       "      <td>0.248012</td>\n",
       "      <td>0.001756</td>\n",
       "    </tr>\n",
       "    <tr>\n",
       "      <th>1</th>\n",
       "      <td>1000</td>\n",
       "      <td>999999</td>\n",
       "      <td>0.621083</td>\n",
       "      <td>0.412008</td>\n",
       "    </tr>\n",
       "  </tbody>\n",
       "</table>\n",
       "</div>"
      ],
      "text/plain": [
       "      V       E  time_dijkstra_1  time_dijkstra_2\n",
       "0  1000    1998         0.248012         0.001756\n",
       "1  1000  999999         0.621083         0.412008"
      ]
     },
     "execution_count": 9,
     "metadata": {},
     "output_type": "execute_result"
    }
   ],
   "source": [
    "V = 1000\n",
    "time_1 = []\n",
    "time_2 = []\n",
    "\n",
    "#case 1: V>>E\n",
    "E = []\n",
    "count_1 = 0\n",
    "for u in range(0, V - 1):\n",
    "    count_1 += 1\n",
    "    E.append((u, u + 1, random.randint(1, 100)))\n",
    "for u in range(1, V):\n",
    "    count_1 += 1\n",
    "    E.append((random.randint(0, u - 1), u, random.randint(1, 100000)))\n",
    "\n",
    "start_time = timeit.default_timer()\n",
    "dijkstra_1(V, E)\n",
    "end_time = timeit.default_timer()\n",
    "time_1.append(end_time - start_time)\n",
    "\n",
    "start_time = timeit.default_timer()\n",
    "dijkstra_2(V, E)\n",
    "end_time = timeit.default_timer()\n",
    "time_2.append(end_time - start_time)\n",
    "\n",
    "#case 2: V<<E\n",
    "E = []\n",
    "count_2 = 0\n",
    "for u in range(0, V - 1):\n",
    "    count_2 += 1\n",
    "    E.append((u, u + 1, random.randint(1, 100)))\n",
    "for i in range(1000):\n",
    "    for u in range(1, V):\n",
    "        count_2 += 1\n",
    "        E.append((random.randint(0, u - 1), u, random.randint(1, 100000)))\n",
    "\n",
    "start_time = timeit.default_timer()\n",
    "dijkstra_1(V, E)\n",
    "end_time = timeit.default_timer()\n",
    "time_1.append(end_time - start_time)\n",
    "\n",
    "start_time = timeit.default_timer()\n",
    "dijkstra_2(V, E)\n",
    "end_time = timeit.default_timer()\n",
    "time_2.append(end_time - start_time)\n",
    "\n",
    "df = pd.DataFrame({\"V\": [V] * 2, \"E\": [count_1, count_2], \"time_dijkstra_1\": time_1, \"time_dijkstra_2\": time_2})\n",
    "df"
   ]
  },
  {
   "cell_type": "markdown",
   "id": "c4eb46b4",
   "metadata": {},
   "source": []
  }
 ],
 "metadata": {
  "kernelspec": {
   "display_name": "Python 3 (ipykernel)",
   "language": "python",
   "name": "python3"
  },
  "language_info": {
   "codemirror_mode": {
    "name": "ipython",
    "version": 3
   },
   "file_extension": ".py",
   "mimetype": "text/x-python",
   "name": "python",
   "nbconvert_exporter": "python",
   "pygments_lexer": "ipython3",
   "version": "3.8.12"
  }
 },
 "nbformat": 4,
 "nbformat_minor": 5
}
