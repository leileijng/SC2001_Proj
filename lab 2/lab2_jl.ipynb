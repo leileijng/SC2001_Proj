{
 "cells": [
  {
   "cell_type": "markdown",
   "id": "4556693f",
   "metadata": {},
   "source": [
    "# Project 2: The Dijkstra’s Algorithm"
   ]
  },
  {
   "cell_type": "markdown",
   "id": "0c85e09f",
   "metadata": {},
   "source": [
    "## Part (a): Adjacency Matrix \n",
    "Suppose the input graph G = (V, E) is stored in an adjacency matrix and we\n",
    "use an `array` for the priority queue. Implement the Dijkstra’s algorithm using this\n",
    "setting and analyze its time complexity with respect to |V| and |E| both\n",
    "theoretically and empirically. "
   ]
  },
  {
   "cell_type": "markdown",
   "id": "721d5961",
   "metadata": {},
   "source": [
    "## Sample Data\n"
   ]
  },
  {
   "cell_type": "code",
   "execution_count": 4,
   "id": "734ab9f4",
   "metadata": {},
   "outputs": [],
   "source": [
    "V_data = 5\n",
    "E_data = [(0, 1, 1), (0, 2, 2), (0, 3, 4), (0, 4, 3),(1, 2, 1), (2, 3, 1), (3, 4, 1)]  # each edge is (start, end, value)"
   ]
  },
  {
   "attachments": {},
   "cell_type": "markdown",
   "id": "cb55ddc2",
   "metadata": {},
   "source": [
    "<img src = \"sample.jpg\">"
   ]
  },
  {
   "cell_type": "markdown",
   "id": "4eef8933",
   "metadata": {},
   "source": [
    "### Priority Queue Data Structure (using array)"
   ]
  },
  {
   "cell_type": "code",
   "execution_count": 5,
   "id": "9c5c0e08",
   "metadata": {},
   "outputs": [],
   "source": [
    "class priority_queue_array:\n",
    "    def __init__(self, length: int):\n",
    "        self.len = length\n",
    "        self.arr = [float('infinity')] * length #default - all infinity \n",
    "        self.arr[0] = 0\n",
    "        \n",
    "    def getQ(self):\n",
    "        return self.arr\n",
    "    \n",
    "    def isempty(self):\n",
    "        for u in range(self.len) :\n",
    "            if self.arr[u] != float('infinity') :\n",
    "                return False\n",
    "        return True\n",
    "        \n",
    "    def pop(self) -> int: #find the one with minimum key val\n",
    "        min_val = float('infinity')\n",
    "        position = -1 \n",
    "        for u in range(self.len) :\n",
    "            if self.arr[u] < min_val :\n",
    "                min_val = self.arr[u]\n",
    "                position = u\n",
    "        self.arr[position] = float('infinity') #pop it\n",
    "        return position\n",
    "        \n",
    "    def update(self, u, value):\n",
    "        self.arr[u] = value\n",
    "        "
   ]
  },
  {
   "cell_type": "markdown",
   "id": "c822034e",
   "metadata": {},
   "source": [
    "- The implementation of array for min-priority queue makes it performance worse than heap structure\n",
    "- Time Complexity yields O(n)"
   ]
  },
  {
   "cell_type": "code",
   "execution_count": 6,
   "id": "d90a0536",
   "metadata": {},
   "outputs": [
    {
     "name": "stdout",
     "output_type": "stream",
     "text": [
      "\n",
      "Minimum Path Weights:\n",
      "0 : 0\n",
      "1 : 1\n",
      "2 : 2\n",
      "3 : 3\n",
      "4 : 3\n"
     ]
    }
   ],
   "source": [
    "def dijkstra_1(V: int, E: list):\n",
    "    # Dijkstra does not work with negative weight edges: assign -1 to denote missing edge between two vertices\n",
    "    adjMatrix = [[-1] * V for i in range(V)]\n",
    "    for (sourceVertex, otherVertex, weight) in E:\n",
    "        adjMatrix[sourceVertex][otherVertex] = weight\n",
    "        adjMatrix[otherVertex][sourceVertex] = weight\n",
    "    \n",
    "    # Initialize array which holds total weight of a path from source vertex to every vertex\n",
    "    d = [float('infinity')] * V\n",
    "    d[0] = 0 #source vertex \n",
    "    s = [0] * V\n",
    "    s[0] = 1\n",
    "    \n",
    "    pq = priority_queue_array(V)\n",
    "    #print(\"   Path Weights \\tPriorityQ\")\n",
    "    \n",
    "    def toUpdatePathWeight(currentV: int, neighbor: int) -> bool:\n",
    "        return (adjMatrix[currentV][neighbor] != -1 and d[currentV] + adjMatrix[currentV][neighbor] < d[neighbor])\n",
    "    \n",
    "    while not pq.isempty():\n",
    "        currentV = pq.pop() # Extract vertex with minimum path weight\n",
    "        s[currentV] = 1\n",
    "        for neighbor in range(V):\n",
    "            if s[neighbor]==0 and toUpdatePathWeight(currentV, neighbor):\n",
    "                d[neighbor] = d[currentV] + adjMatrix[currentV][neighbor]\n",
    "                pq.update(neighbor, d[neighbor])\n",
    "        #print(f'{currentV} {d} \\t{pq.getQ()}')\n",
    "\n",
    "    return d\n",
    "\n",
    "minPathWeights = dijkstra_1(V_data, E_data)\n",
    "\n",
    "print()\n",
    "print('Minimum Path Weights:')\n",
    "for index, pathWeight in enumerate(minPathWeights):\n",
    "    print(index,':',pathWeight)"
   ]
  },
  {
   "cell_type": "markdown",
   "id": "8456f7ce",
   "metadata": {},
   "source": [
    "`Theoretical Time Complexity Analysis`: \n",
    "- the while loop would iterate for $V$ times\n",
    "- within each iteration, it again iterate whole priority_queue_array and the edges of adjacency matrix which cost $O(V)$\n",
    "- the total time complexity is $O(V^2)$"
   ]
  },
  {
   "cell_type": "code",
   "execution_count": 7,
   "id": "7556ae74",
   "metadata": {},
   "outputs": [
    {
     "data": {
      "text/html": [
       "<div>\n",
       "<style scoped>\n",
       "    .dataframe tbody tr th:only-of-type {\n",
       "        vertical-align: middle;\n",
       "    }\n",
       "\n",
       "    .dataframe tbody tr th {\n",
       "        vertical-align: top;\n",
       "    }\n",
       "\n",
       "    .dataframe thead th {\n",
       "        text-align: right;\n",
       "    }\n",
       "</style>\n",
       "<table border=\"1\" class=\"dataframe\">\n",
       "  <thead>\n",
       "    <tr style=\"text-align: right;\">\n",
       "      <th></th>\n",
       "      <th>V</th>\n",
       "      <th>time</th>\n",
       "      <th>V^2</th>\n",
       "      <th>time / (V^2)</th>\n",
       "    </tr>\n",
       "  </thead>\n",
       "  <tbody>\n",
       "    <tr>\n",
       "      <th>0</th>\n",
       "      <td>1000</td>\n",
       "      <td>0.177363</td>\n",
       "      <td>1000000</td>\n",
       "      <td>1.773626e-07</td>\n",
       "    </tr>\n",
       "    <tr>\n",
       "      <th>1</th>\n",
       "      <td>2000</td>\n",
       "      <td>0.722863</td>\n",
       "      <td>4000000</td>\n",
       "      <td>1.807157e-07</td>\n",
       "    </tr>\n",
       "    <tr>\n",
       "      <th>2</th>\n",
       "      <td>3000</td>\n",
       "      <td>1.614616</td>\n",
       "      <td>9000000</td>\n",
       "      <td>1.794017e-07</td>\n",
       "    </tr>\n",
       "    <tr>\n",
       "      <th>3</th>\n",
       "      <td>4000</td>\n",
       "      <td>2.769457</td>\n",
       "      <td>16000000</td>\n",
       "      <td>1.730910e-07</td>\n",
       "    </tr>\n",
       "    <tr>\n",
       "      <th>4</th>\n",
       "      <td>5000</td>\n",
       "      <td>4.366868</td>\n",
       "      <td>25000000</td>\n",
       "      <td>1.746747e-07</td>\n",
       "    </tr>\n",
       "    <tr>\n",
       "      <th>5</th>\n",
       "      <td>6000</td>\n",
       "      <td>6.211500</td>\n",
       "      <td>36000000</td>\n",
       "      <td>1.725417e-07</td>\n",
       "    </tr>\n",
       "    <tr>\n",
       "      <th>6</th>\n",
       "      <td>7000</td>\n",
       "      <td>8.817242</td>\n",
       "      <td>49000000</td>\n",
       "      <td>1.799437e-07</td>\n",
       "    </tr>\n",
       "    <tr>\n",
       "      <th>7</th>\n",
       "      <td>8000</td>\n",
       "      <td>11.270363</td>\n",
       "      <td>64000000</td>\n",
       "      <td>1.760994e-07</td>\n",
       "    </tr>\n",
       "  </tbody>\n",
       "</table>\n",
       "</div>"
      ],
      "text/plain": [
       "      V       time       V^2  time / (V^2)\n",
       "0  1000   0.177363   1000000  1.773626e-07\n",
       "1  2000   0.722863   4000000  1.807157e-07\n",
       "2  3000   1.614616   9000000  1.794017e-07\n",
       "3  4000   2.769457  16000000  1.730910e-07\n",
       "4  5000   4.366868  25000000  1.746747e-07\n",
       "5  6000   6.211500  36000000  1.725417e-07\n",
       "6  7000   8.817242  49000000  1.799437e-07\n",
       "7  8000  11.270363  64000000  1.760994e-07"
      ]
     },
     "execution_count": 7,
     "metadata": {},
     "output_type": "execute_result"
    }
   ],
   "source": [
    "import pandas as pd\n",
    "import numpy as np\n",
    "import random\n",
    "import timeit\n",
    "\n",
    "Vs = [1000, 2000, 3000, 4000, 5000, 6000, 7000, 8000]\n",
    "\n",
    "time = []\n",
    "sigma = []\n",
    "for V in Vs:\n",
    "    E = []\n",
    "    for u in range(0, V - 1):\n",
    "        E.append((u, u + 1, random.randint(1, 1000))) \n",
    "        #make sure all the vertices are connected - connected graph \n",
    "    for i in range(10):\n",
    "        for u in range(1, V):\n",
    "            E.append((random.randint(0, u - 1), u, random.randint(1, 1000000)))\n",
    "            \n",
    "    start_time = timeit.default_timer()\n",
    "    dijkstra_1(V, E)\n",
    "    end_time = timeit.default_timer()\n",
    "    time.append(end_time - start_time)\n",
    "    sigma.append((end_time - start_time) / (V * V))\n",
    "\n",
    "df_V = pd.DataFrame({'V':Vs,'time':time,'V^2':np.square(Vs),'time / (V^2)':sigma})\n",
    "df_V"
   ]
  },
  {
   "cell_type": "markdown",
   "id": "8b5b59e2",
   "metadata": {},
   "source": [
    "- Empirically, we found that the runtime divided by $V^2$ is approximately constant, thus the time complexity is positively related to square $V$."
   ]
  },
  {
   "cell_type": "code",
   "execution_count": 8,
   "id": "9ad1626a",
   "metadata": {
    "scrolled": true
   },
   "outputs": [
    {
     "data": {
      "image/png": "[encoded data removed]",
      "text/plain": [
       "<Figure size 432x288 with 1 Axes>"
      ]
     },
     "metadata": {
      "needs_background": "light"
     },
     "output_type": "display_data"
    }
   ],
   "source": [
    "import matplotlib.pyplot as plt\n",
    "plt.plot(df_V['V'], df_V['time'], label='Time')\n",
    "\n",
    "plt.title('Dijkstra Algorithm Performance using Adj. Matrix')\n",
    "plt.xlabel('Number of Vertices (V)')\n",
    "plt.ylabel('Time (Seconds)')\n",
    "plt.scatter(df_V['V'], df_V['time'],marker=r'o',color='b')\n",
    "\n",
    "plt.legend()\n",
    "plt.grid(True)\n",
    "plt.show()"
   ]
  },
  {
   "cell_type": "code",
   "execution_count": 9,
   "id": "d1d57eca",
   "metadata": {},
   "outputs": [
    {
     "data": {
      "image/png": "[encoded data removed]",
      "text/plain": [
       "<Figure size 432x288 with 1 Axes>"
      ]
     },
     "metadata": {
      "needs_background": "light"
     },
     "output_type": "display_data"
    }
   ],
   "source": [
    "plt.plot(np.square(Vs), df_V['time'], label='Time', color='g')\n",
    "\n",
    "plt.title('Dijkstra Algorithm Performance using Adj. Matrix')\n",
    "plt.xlabel('Sqaure of Number of Vertices (V^2)')\n",
    "plt.ylabel('Time (Seconds)')\n",
    "plt.scatter(np.square(Vs), df_V['time'],marker=r'o',color='g')\n",
    "\n",
    "plt.legend()\n",
    "plt.grid(True)\n",
    "plt.show()"
   ]
  },
  {
   "cell_type": "markdown",
   "id": "ad76ea58",
   "metadata": {},
   "source": []
  },
  {
   "cell_type": "markdown",
   "id": "eccdec15",
   "metadata": {},
   "source": [
    "## Part (b): Adjacency List \n",
    "Suppose the input graph G = (V, E) is stored in an array of adjacency lists and\n",
    "we use a minimizing `heap` for the priority queue. Implement the Dijkstra’s\n",
    "algorithm using this setting and analyze its time complexity with respect to |V|\n",
    "and |E| both theoretically and empirically. "
   ]
  },
  {
   "cell_type": "code",
   "execution_count": 21,
   "id": "1c076743",
   "metadata": {},
   "outputs": [],
   "source": [
    "import heapq as pq\n",
    "\n",
    "def dijkstra_2(V, E):\n",
    "    # store the E into adjacency list\n",
    "    edge = []\n",
    "    for i in range(V): \n",
    "        edge.append([])\n",
    "    for (start, end, value) in E :\n",
    "        edge[start].append((end, value))\n",
    "        edge[end].append((start, value))\n",
    "        \n",
    "    #print(edge)\n",
    "    # initialize the priority queue\n",
    "    d = [float('inf')] * V # initialize the distance array with value of infinity\n",
    "    d[0] = 0\n",
    "    \n",
    "    li = [(0, 0)] #(vertex, path_weight)\n",
    "    pq.heapify(li) \n",
    "    \n",
    "    visited = [False] * V\n",
    "    while (True) :\n",
    "        u = pq.heappop(li)[1] #based on path_weight\n",
    "        if visited[u] == True : continue\n",
    "        else : visited[u] = True\n",
    "        if u == V - 1 : break #last vertex\n",
    "        for (v, value) in edge[u] : #relax neighbors\n",
    "            if d[v] > d[u] + value :\n",
    "                d[v] = d[u] + value\n",
    "                pq.heappush(li, (d[v], v))\n",
    "    \n",
    "dijkstra_2(V_data, E_data)    "
   ]
  },
  {
   "cell_type": "markdown",
   "id": "63a260fc",
   "metadata": {},
   "source": [
    "- There are $(V + E)$ times of iteration, however each time it only cost $O(\\log V)$ to find the minimum distance in the priority_queue_heap. Thus, the total time complexity is $O((V + E) \\log V)$"
   ]
  },
  {
   "cell_type": "code",
   "execution_count": 36,
   "id": "7177ed58",
   "metadata": {},
   "outputs": [
    {
     "name": "stdout",
     "output_type": "stream",
     "text": [
      "100\n",
      "200\n",
      "300\n",
      "400\n",
      "500\n",
      "600\n",
      "700\n",
      "800\n",
      "900\n",
      "1000\n"
     ]
    },
    {
     "data": {
      "text/html": [
       "<div>\n",
       "<style scoped>\n",
       "    .dataframe tbody tr th:only-of-type {\n",
       "        vertical-align: middle;\n",
       "    }\n",
       "\n",
       "    .dataframe tbody tr th {\n",
       "        vertical-align: top;\n",
       "    }\n",
       "\n",
       "    .dataframe thead th {\n",
       "        text-align: right;\n",
       "    }\n",
       "</style>\n",
       "<table border=\"1\" class=\"dataframe\">\n",
       "  <thead>\n",
       "    <tr style=\"text-align: right;\">\n",
       "      <th></th>\n",
       "      <th>V</th>\n",
       "      <th>E</th>\n",
       "      <th>time</th>\n",
       "      <th>(V + E) * log(V)</th>\n",
       "      <th>time / ((V + E) * log(V))</th>\n",
       "    </tr>\n",
       "  </thead>\n",
       "  <tbody>\n",
       "    <tr>\n",
       "      <th>0</th>\n",
       "      <td>100</td>\n",
       "      <td>4999</td>\n",
       "      <td>0.004445</td>\n",
       "      <td>6.265357e+04</td>\n",
       "      <td>7.094634e-08</td>\n",
       "    </tr>\n",
       "    <tr>\n",
       "      <th>1</th>\n",
       "      <td>200</td>\n",
       "      <td>19999</td>\n",
       "      <td>0.008717</td>\n",
       "      <td>2.885960e+05</td>\n",
       "      <td>3.020442e-08</td>\n",
       "    </tr>\n",
       "    <tr>\n",
       "      <th>2</th>\n",
       "      <td>300</td>\n",
       "      <td>44999</td>\n",
       "      <td>0.021381</td>\n",
       "      <td>7.002141e+05</td>\n",
       "      <td>3.053489e-08</td>\n",
       "    </tr>\n",
       "    <tr>\n",
       "      <th>3</th>\n",
       "      <td>400</td>\n",
       "      <td>79999</td>\n",
       "      <td>0.035044</td>\n",
       "      <td>1.309514e+06</td>\n",
       "      <td>2.676116e-08</td>\n",
       "    </tr>\n",
       "    <tr>\n",
       "      <th>4</th>\n",
       "      <td>500</td>\n",
       "      <td>124999</td>\n",
       "      <td>0.055322</td>\n",
       "      <td>2.124893e+06</td>\n",
       "      <td>2.603531e-08</td>\n",
       "    </tr>\n",
       "    <tr>\n",
       "      <th>5</th>\n",
       "      <td>600</td>\n",
       "      <td>179999</td>\n",
       "      <td>0.105752</td>\n",
       "      <td>3.152830e+06</td>\n",
       "      <td>3.354189e-08</td>\n",
       "    </tr>\n",
       "    <tr>\n",
       "      <th>6</th>\n",
       "      <td>700</td>\n",
       "      <td>244999</td>\n",
       "      <td>0.134021</td>\n",
       "      <td>4.398606e+06</td>\n",
       "      <td>3.046890e-08</td>\n",
       "    </tr>\n",
       "    <tr>\n",
       "      <th>7</th>\n",
       "      <td>800</td>\n",
       "      <td>319999</td>\n",
       "      <td>0.151379</td>\n",
       "      <td>5.866678e+06</td>\n",
       "      <td>2.580312e-08</td>\n",
       "    </tr>\n",
       "    <tr>\n",
       "      <th>8</th>\n",
       "      <td>900</td>\n",
       "      <td>404999</td>\n",
       "      <td>0.290280</td>\n",
       "      <td>7.560907e+06</td>\n",
       "      <td>3.839220e-08</td>\n",
       "    </tr>\n",
       "    <tr>\n",
       "      <th>9</th>\n",
       "      <td>1000</td>\n",
       "      <td>499999</td>\n",
       "      <td>0.329578</td>\n",
       "      <td>9.484695e+06</td>\n",
       "      <td>3.474839e-08</td>\n",
       "    </tr>\n",
       "  </tbody>\n",
       "</table>\n",
       "</div>"
      ],
      "text/plain": [
       "      V       E      time  (V + E) * log(V)  time / ((V + E) * log(V))\n",
       "0   100    4999  0.004445      6.265357e+04               7.094634e-08\n",
       "1   200   19999  0.008717      2.885960e+05               3.020442e-08\n",
       "2   300   44999  0.021381      7.002141e+05               3.053489e-08\n",
       "3   400   79999  0.035044      1.309514e+06               2.676116e-08\n",
       "4   500  124999  0.055322      2.124893e+06               2.603531e-08\n",
       "5   600  179999  0.105752      3.152830e+06               3.354189e-08\n",
       "6   700  244999  0.134021      4.398606e+06               3.046890e-08\n",
       "7   800  319999  0.151379      5.866678e+06               2.580312e-08\n",
       "8   900  404999  0.290280      7.560907e+06               3.839220e-08\n",
       "9  1000  499999  0.329578      9.484695e+06               3.474839e-08"
      ]
     },
     "execution_count": 36,
     "metadata": {},
     "output_type": "execute_result"
    }
   ],
   "source": [
    "import math\n",
    "\n",
    "Vs = [100, 200, 300, 400, 500, 600, 700, 800, 900, 1000]\n",
    "time = []\n",
    "sigma = []\n",
    "comp = []\n",
    "Es = []\n",
    "EV =[]\n",
    "for V in Vs:\n",
    "    print(V)\n",
    "    E = []\n",
    "    count = 0\n",
    "    for u in range(0, V - 1):\n",
    "        count += 1\n",
    "        E.append((u, u + 1, random.randint(1, 100)))\n",
    "    for i in range(V):\n",
    "        for u in range(1, V//2):\n",
    "            count += 1\n",
    "            E.append((random.randint(0, u - 1), u, random.randint(1, 100)))\n",
    "    Es.append(count)\n",
    "    start_time = timeit.default_timer()\n",
    "    dijkstra_2(V, E)\n",
    "    end_time = timeit.default_timer()\n",
    "    time.append(end_time - start_time)\n",
    "    EV.append(V+count)\n",
    "    sigma.append((end_time - start_time) / ((V + count) * math.log(count, 2)))\n",
    "    comp.append((V + count) * math.log(count, 2))\n",
    "\n",
    "df_E = pd.DataFrame({'V': Vs, 'E':Es,'time':time,'(V + E) * log(V)': comp, 'time / ((V + E) * log(V))':sigma})\n",
    "df_E"
   ]
  },
  {
   "cell_type": "code",
   "execution_count": 56,
   "id": "4ef7a30f",
   "metadata": {},
   "outputs": [
    {
     "data": {
      "image/png": "[encoded data removed]",
      "text/plain": [
       "<Figure size 432x288 with 1 Axes>"
      ]
     },
     "metadata": {
      "needs_background": "light"
     },
     "output_type": "display_data"
    }
   ],
   "source": [
    "plt.plot(EV, df_E['time'], label='Time')\n",
    "\n",
    "plt.title('Dijkstra Algorithm Performance using Adj. List')\n",
    "plt.xlabel('Number of Vertices + Number of Edges')\n",
    "plt.ylabel('Time (Seconds)')\n",
    "plt.scatter(EV, df_E['time'],marker=r'o',color='b')\n",
    "\n",
    "plt.legend()\n",
    "plt.grid(True)\n",
    "plt.show()"
   ]
  },
  {
   "cell_type": "code",
   "execution_count": null,
   "id": "0baa6a90",
   "metadata": {},
   "outputs": [],
   "source": []
  },
  {
   "cell_type": "code",
   "execution_count": 54,
   "id": "ddb4e3f8",
   "metadata": {},
   "outputs": [
    {
     "name": "stderr",
     "output_type": "stream",
     "text": [
      "No artists with labels found to put in legend.  Note that artists whose label start with an underscore are ignored when legend() is called with no argument.\n"
     ]
    },
    {
     "data": {
      "image/png": "[encoded data removed]",
      "text/plain": [
       "<Figure size 432x288 with 1 Axes>"
      ]
     },
     "metadata": {
      "needs_background": "light"
     },
     "output_type": "display_data"
    }
   ],
   "source": [
    "#plt.plot(comp[:8], time[:8], label='Time', color='g')\n",
    "\n",
    "plt.title('Dijkstra Algorithm Performance using Adj. List')\n",
    "plt.xlabel('(V + E) * log(V)')\n",
    "plt.ylabel('Time (Seconds)')\n",
    "plt.ylim([0, 0.25])\n",
    "plt.scatter(comp[:8], time[:8],marker=r'o',color='g')\n",
    "\n",
    "# Generating the parameters of the best fit line\n",
    "m, c = np.polyfit(comp[:8], time[:8], 1)\n",
    "\n",
    "# Plotting the straight line by using the generated parameters\n",
    "plt.plot(np.array(comp[:8]), m*np.array(comp[:8])+c)\n",
    "\n",
    "plt.legend()\n",
    "plt.grid(True)\n",
    "plt.show()"
   ]
  },
  {
   "cell_type": "markdown",
   "id": "bfec16f4",
   "metadata": {},
   "source": []
  },
  {
   "cell_type": "markdown",
   "id": "ce444abe",
   "metadata": {},
   "source": [
    "### (c) Compare the two implementations in (a) and (b). Discuss which implementation is better and in what circumstances. "
   ]
  },
  {
   "cell_type": "markdown",
   "id": "0ad4c711",
   "metadata": {},
   "source": [
    "- For (a), the while loop would iterate for $V$ times, each time it would iterate whole priority_queue_array and the edges of adjacency matrix which cost $O(V)$. Thus, the total time complexity is $O(V^2)$\n",
    "- For (b), the while loop would iterate for $(V + E)$ times, however each time it only cost $O(\\log V)$ to find the minimum distance in the priority_queue_heap. Thus, the total time complexity is $O((V + E) \\log V)$\n",
    "- Therefore, when $V << E$, (a) would be better, otherwise (b) would be better. (Sparse graph)\n"
   ]
  },
  {
   "cell_type": "code",
   "execution_count": 9,
   "id": "db8c3277",
   "metadata": {},
   "outputs": [
    {
     "data": {
      "text/html": [
       "<div>\n",
       "<style scoped>\n",
       "    .dataframe tbody tr th:only-of-type {\n",
       "        vertical-align: middle;\n",
       "    }\n",
       "\n",
       "    .dataframe tbody tr th {\n",
       "        vertical-align: top;\n",
       "    }\n",
       "\n",
       "    .dataframe thead th {\n",
       "        text-align: right;\n",
       "    }\n",
       "</style>\n",
       "<table border=\"1\" class=\"dataframe\">\n",
       "  <thead>\n",
       "    <tr style=\"text-align: right;\">\n",
       "      <th></th>\n",
       "      <th>V</th>\n",
       "      <th>E</th>\n",
       "      <th>time_dijkstra_1</th>\n",
       "      <th>time_dijkstra_2</th>\n",
       "    </tr>\n",
       "  </thead>\n",
       "  <tbody>\n",
       "    <tr>\n",
       "      <th>0</th>\n",
       "      <td>1000</td>\n",
       "      <td>1998</td>\n",
       "      <td>0.248012</td>\n",
       "      <td>0.001756</td>\n",
       "    </tr>\n",
       "    <tr>\n",
       "      <th>1</th>\n",
       "      <td>1000</td>\n",
       "      <td>999999</td>\n",
       "      <td>0.621083</td>\n",
       "      <td>0.412008</td>\n",
       "    </tr>\n",
       "  </tbody>\n",
       "</table>\n",
       "</div>"
      ],
      "text/plain": [
       "      V       E  time_dijkstra_1  time_dijkstra_2\n",
       "0  1000    1998         0.248012         0.001756\n",
       "1  1000  999999         0.621083         0.412008"
      ]
     },
     "execution_count": 9,
     "metadata": {},
     "output_type": "execute_result"
    }
   ],
   "source": [
    "V = [100,200,300,400,500,600]\n",
    "time_1 = []\n",
    "time_2 = []\n",
    "\n",
    "#case 1: V>>E\n",
    "E = []\n",
    "count_1 = 0\n",
    "for u in range(0, V - 1):\n",
    "    count_1 += 1\n",
    "    E.append((u, u + 1, random.randint(1, 100)))\n",
    "for u in range(1, V):\n",
    "    count_1 += 1\n",
    "    E.append((random.randint(0, u - 1), u, random.randint(1, 100000)))\n",
    "\n",
    "start_time = timeit.default_timer()\n",
    "dijkstra_1(V, E)\n",
    "end_time = timeit.default_timer()\n",
    "time_1.append(end_time - start_time)\n",
    "\n",
    "start_time = timeit.default_timer()\n",
    "dijkstra_2(V, E)\n",
    "end_time = timeit.default_timer()\n",
    "time_2.append(end_time - start_time)\n",
    "\n",
    "#case 2: V<<E\n",
    "E = []\n",
    "count_2 = 0\n",
    "for u in range(0, V - 1):\n",
    "    count_2 += 1\n",
    "    E.append((u, u + 1, random.randint(1, 100)))\n",
    "for i in range(1000):\n",
    "    for u in range(1, V):\n",
    "        count_2 += 1\n",
    "        E.append((random.randint(0, u - 1), u, random.randint(1, 100000)))\n",
    "\n",
    "start_time = timeit.default_timer()\n",
    "dijkstra_1(V, E)\n",
    "end_time = timeit.default_timer()\n",
    "time_1.append(end_time - start_time)\n",
    "\n",
    "start_time = timeit.default_timer()\n",
    "dijkstra_2(V, E)\n",
    "end_time = timeit.default_timer()\n",
    "time_2.append(end_time - start_time)\n",
    "\n",
    "df = pd.DataFrame({\"V\": [V] * 2, \"E\": [count_1, count_2], \"time_dijkstra_1\": time_1, \"time_dijkstra_2\": time_2})\n",
    "df"
   ]
  },
  {
   "cell_type": "code",
   "execution_count": 68,
   "id": "22a2f10a",
   "metadata": {
    "scrolled": false
   },
   "outputs": [
    {
     "name": "stdout",
     "output_type": "stream",
     "text": [
      "12\n",
      "12\n"
     ]
    },
    {
     "data": {
      "text/html": [
       "<div>\n",
       "<style scoped>\n",
       "    .dataframe tbody tr th:only-of-type {\n",
       "        vertical-align: middle;\n",
       "    }\n",
       "\n",
       "    .dataframe tbody tr th {\n",
       "        vertical-align: top;\n",
       "    }\n",
       "\n",
       "    .dataframe thead th {\n",
       "        text-align: right;\n",
       "    }\n",
       "</style>\n",
       "<table border=\"1\" class=\"dataframe\">\n",
       "  <thead>\n",
       "    <tr style=\"text-align: right;\">\n",
       "      <th></th>\n",
       "      <th>V</th>\n",
       "      <th>E</th>\n",
       "      <th>time_dijkstra_1</th>\n",
       "      <th>time_dijkstra_2</th>\n",
       "    </tr>\n",
       "  </thead>\n",
       "  <tbody>\n",
       "    <tr>\n",
       "      <th>0</th>\n",
       "      <td>100</td>\n",
       "      <td>198</td>\n",
       "      <td>0.002316</td>\n",
       "      <td>0.000303</td>\n",
       "    </tr>\n",
       "    <tr>\n",
       "      <th>1</th>\n",
       "      <td>100</td>\n",
       "      <td>99099</td>\n",
       "      <td>0.011511</td>\n",
       "      <td>0.053362</td>\n",
       "    </tr>\n",
       "    <tr>\n",
       "      <th>2</th>\n",
       "      <td>200</td>\n",
       "      <td>398</td>\n",
       "      <td>0.006526</td>\n",
       "      <td>0.000395</td>\n",
       "    </tr>\n",
       "    <tr>\n",
       "      <th>3</th>\n",
       "      <td>200</td>\n",
       "      <td>199199</td>\n",
       "      <td>0.027047</td>\n",
       "      <td>0.111420</td>\n",
       "    </tr>\n",
       "    <tr>\n",
       "      <th>4</th>\n",
       "      <td>300</td>\n",
       "      <td>598</td>\n",
       "      <td>0.017024</td>\n",
       "      <td>0.000630</td>\n",
       "    </tr>\n",
       "    <tr>\n",
       "      <th>5</th>\n",
       "      <td>300</td>\n",
       "      <td>299299</td>\n",
       "      <td>0.054849</td>\n",
       "      <td>0.215360</td>\n",
       "    </tr>\n",
       "    <tr>\n",
       "      <th>6</th>\n",
       "      <td>400</td>\n",
       "      <td>798</td>\n",
       "      <td>0.026285</td>\n",
       "      <td>0.000833</td>\n",
       "    </tr>\n",
       "    <tr>\n",
       "      <th>7</th>\n",
       "      <td>400</td>\n",
       "      <td>399399</td>\n",
       "      <td>0.098504</td>\n",
       "      <td>0.319829</td>\n",
       "    </tr>\n",
       "    <tr>\n",
       "      <th>8</th>\n",
       "      <td>500</td>\n",
       "      <td>998</td>\n",
       "      <td>0.040044</td>\n",
       "      <td>0.001177</td>\n",
       "    </tr>\n",
       "    <tr>\n",
       "      <th>9</th>\n",
       "      <td>500</td>\n",
       "      <td>499499</td>\n",
       "      <td>0.115312</td>\n",
       "      <td>0.257135</td>\n",
       "    </tr>\n",
       "    <tr>\n",
       "      <th>10</th>\n",
       "      <td>600</td>\n",
       "      <td>1198</td>\n",
       "      <td>0.058761</td>\n",
       "      <td>0.000810</td>\n",
       "    </tr>\n",
       "    <tr>\n",
       "      <th>11</th>\n",
       "      <td>600</td>\n",
       "      <td>599599</td>\n",
       "      <td>0.158785</td>\n",
       "      <td>0.440948</td>\n",
       "    </tr>\n",
       "  </tbody>\n",
       "</table>\n",
       "</div>"
      ],
      "text/plain": [
       "      V       E  time_dijkstra_1  time_dijkstra_2\n",
       "0   100     198         0.002316         0.000303\n",
       "1   100   99099         0.011511         0.053362\n",
       "2   200     398         0.006526         0.000395\n",
       "3   200  199199         0.027047         0.111420\n",
       "4   300     598         0.017024         0.000630\n",
       "5   300  299299         0.054849         0.215360\n",
       "6   400     798         0.026285         0.000833\n",
       "7   400  399399         0.098504         0.319829\n",
       "8   500     998         0.040044         0.001177\n",
       "9   500  499499         0.115312         0.257135\n",
       "10  600    1198         0.058761         0.000810\n",
       "11  600  599599         0.158785         0.440948"
      ]
     },
     "execution_count": 68,
     "metadata": {},
     "output_type": "execute_result"
    }
   ],
   "source": [
    "Vs = [100,200,300,400,500,600]\n",
    "time_1 = []\n",
    "time_2 = []\n",
    "Vss =[]\n",
    "Es = []\n",
    "for V in Vs:\n",
    "    #case 1: V>>E\n",
    "    E = []\n",
    "    count_1 = 0\n",
    "    for u in range(0, V - 1):\n",
    "        count_1 += 1\n",
    "        E.append((u, u + 1, random.randint(1, 100)))\n",
    "    for u in range(1, V):\n",
    "        count_1 += 1\n",
    "        E.append((random.randint(0, u - 1), u, random.randint(1, 100000)))\n",
    "\n",
    "    start_time = timeit.default_timer()\n",
    "    dijkstra_1(V, E)\n",
    "    end_time = timeit.default_timer()\n",
    "    time_1.append(end_time - start_time)\n",
    "\n",
    "    start_time = timeit.default_timer()\n",
    "    dijkstra_2(V, E)\n",
    "    end_time = timeit.default_timer()\n",
    "    time_2.append(end_time - start_time)\n",
    "\n",
    "    #case 2: V<<E\n",
    "    E = []\n",
    "    count_2 = 0\n",
    "    for u in range(0, V - 1):\n",
    "        count_2 += 1\n",
    "        E.append((u, u + 1, random.randint(1, 100)))\n",
    "    for i in range(1000):\n",
    "        for u in range(1, V):\n",
    "            count_2 += 1\n",
    "            E.append((random.randint(0, u - 1), u, random.randint(1, 100000)))\n",
    "\n",
    "    start_time = timeit.default_timer()\n",
    "    dijkstra_1(V, E)\n",
    "    end_time = timeit.default_timer()\n",
    "    time_1.append(end_time - start_time)\n",
    "\n",
    "    start_time = timeit.default_timer()\n",
    "    dijkstra_2(V, E)\n",
    "    end_time = timeit.default_timer()\n",
    "    time_2.append(end_time - start_time)\n",
    "    Vss.append(V)\n",
    "    Vss.append(V)\n",
    "    Es.append(count_1)\n",
    "    Es.append(count_2)\n",
    "\n",
    "    \n",
    "df = pd.DataFrame({\"V\": Vss, \"E\": Es, \"time_dijkstra_1\": time_1, \"time_dijkstra_2\": time_2})\n",
    "df"
   ]
  },
  {
   "cell_type": "code",
   "execution_count": null,
   "id": "9661734d",
   "metadata": {},
   "outputs": [],
   "source": []
  },
  {
   "cell_type": "code",
   "execution_count": 90,
   "id": "00140365",
   "metadata": {},
   "outputs": [],
   "source": [
    "sparse_df = df[::2]\n",
    "dense_df = []\n",
    "for i in range(len(df)):\n",
    "    if i%2 == 1:\n",
    "        #print(df.iloc[i])\n",
    "        dense_df.append(df.iloc[i])"
   ]
  },
  {
   "cell_type": "code",
   "execution_count": 91,
   "id": "d376e943",
   "metadata": {},
   "outputs": [
    {
     "data": {
      "text/html": [
       "<div>\n",
       "<style scoped>\n",
       "    .dataframe tbody tr th:only-of-type {\n",
       "        vertical-align: middle;\n",
       "    }\n",
       "\n",
       "    .dataframe tbody tr th {\n",
       "        vertical-align: top;\n",
       "    }\n",
       "\n",
       "    .dataframe thead th {\n",
       "        text-align: right;\n",
       "    }\n",
       "</style>\n",
       "<table border=\"1\" class=\"dataframe\">\n",
       "  <thead>\n",
       "    <tr style=\"text-align: right;\">\n",
       "      <th></th>\n",
       "      <th>V</th>\n",
       "      <th>E</th>\n",
       "      <th>time_dijkstra_1</th>\n",
       "      <th>time_dijkstra_2</th>\n",
       "    </tr>\n",
       "  </thead>\n",
       "  <tbody>\n",
       "    <tr>\n",
       "      <th>0</th>\n",
       "      <td>100</td>\n",
       "      <td>198</td>\n",
       "      <td>0.002316</td>\n",
       "      <td>0.000303</td>\n",
       "    </tr>\n",
       "    <tr>\n",
       "      <th>2</th>\n",
       "      <td>200</td>\n",
       "      <td>398</td>\n",
       "      <td>0.006526</td>\n",
       "      <td>0.000395</td>\n",
       "    </tr>\n",
       "    <tr>\n",
       "      <th>4</th>\n",
       "      <td>300</td>\n",
       "      <td>598</td>\n",
       "      <td>0.017024</td>\n",
       "      <td>0.000630</td>\n",
       "    </tr>\n",
       "    <tr>\n",
       "      <th>6</th>\n",
       "      <td>400</td>\n",
       "      <td>798</td>\n",
       "      <td>0.026285</td>\n",
       "      <td>0.000833</td>\n",
       "    </tr>\n",
       "    <tr>\n",
       "      <th>8</th>\n",
       "      <td>500</td>\n",
       "      <td>998</td>\n",
       "      <td>0.040044</td>\n",
       "      <td>0.001177</td>\n",
       "    </tr>\n",
       "    <tr>\n",
       "      <th>10</th>\n",
       "      <td>600</td>\n",
       "      <td>1198</td>\n",
       "      <td>0.058761</td>\n",
       "      <td>0.000810</td>\n",
       "    </tr>\n",
       "  </tbody>\n",
       "</table>\n",
       "</div>"
      ],
      "text/plain": [
       "      V     E  time_dijkstra_1  time_dijkstra_2\n",
       "0   100   198         0.002316         0.000303\n",
       "2   200   398         0.006526         0.000395\n",
       "4   300   598         0.017024         0.000630\n",
       "6   400   798         0.026285         0.000833\n",
       "8   500   998         0.040044         0.001177\n",
       "10  600  1198         0.058761         0.000810"
      ]
     },
     "execution_count": 91,
     "metadata": {},
     "output_type": "execute_result"
    }
   ],
   "source": [
    "sparse_df"
   ]
  },
  {
   "cell_type": "code",
   "execution_count": 92,
   "id": "03eb83e0",
   "metadata": {
    "scrolled": false
   },
   "outputs": [
    {
     "data": {
      "text/html": [
       "<div>\n",
       "<style scoped>\n",
       "    .dataframe tbody tr th:only-of-type {\n",
       "        vertical-align: middle;\n",
       "    }\n",
       "\n",
       "    .dataframe tbody tr th {\n",
       "        vertical-align: top;\n",
       "    }\n",
       "\n",
       "    .dataframe thead th {\n",
       "        text-align: right;\n",
       "    }\n",
       "</style>\n",
       "<table border=\"1\" class=\"dataframe\">\n",
       "  <thead>\n",
       "    <tr style=\"text-align: right;\">\n",
       "      <th></th>\n",
       "      <th>V</th>\n",
       "      <th>E</th>\n",
       "      <th>time_dijkstra_1</th>\n",
       "      <th>time_dijkstra_2</th>\n",
       "    </tr>\n",
       "  </thead>\n",
       "  <tbody>\n",
       "    <tr>\n",
       "      <th>1</th>\n",
       "      <td>100.0</td>\n",
       "      <td>99099.0</td>\n",
       "      <td>0.011511</td>\n",
       "      <td>0.053362</td>\n",
       "    </tr>\n",
       "    <tr>\n",
       "      <th>3</th>\n",
       "      <td>200.0</td>\n",
       "      <td>199199.0</td>\n",
       "      <td>0.027047</td>\n",
       "      <td>0.111420</td>\n",
       "    </tr>\n",
       "    <tr>\n",
       "      <th>5</th>\n",
       "      <td>300.0</td>\n",
       "      <td>299299.0</td>\n",
       "      <td>0.054849</td>\n",
       "      <td>0.215360</td>\n",
       "    </tr>\n",
       "    <tr>\n",
       "      <th>7</th>\n",
       "      <td>400.0</td>\n",
       "      <td>399399.0</td>\n",
       "      <td>0.098504</td>\n",
       "      <td>0.319829</td>\n",
       "    </tr>\n",
       "    <tr>\n",
       "      <th>9</th>\n",
       "      <td>500.0</td>\n",
       "      <td>499499.0</td>\n",
       "      <td>0.115312</td>\n",
       "      <td>0.257135</td>\n",
       "    </tr>\n",
       "    <tr>\n",
       "      <th>11</th>\n",
       "      <td>600.0</td>\n",
       "      <td>599599.0</td>\n",
       "      <td>0.158785</td>\n",
       "      <td>0.440948</td>\n",
       "    </tr>\n",
       "  </tbody>\n",
       "</table>\n",
       "</div>"
      ],
      "text/plain": [
       "        V         E  time_dijkstra_1  time_dijkstra_2\n",
       "1   100.0   99099.0         0.011511         0.053362\n",
       "3   200.0  199199.0         0.027047         0.111420\n",
       "5   300.0  299299.0         0.054849         0.215360\n",
       "7   400.0  399399.0         0.098504         0.319829\n",
       "9   500.0  499499.0         0.115312         0.257135\n",
       "11  600.0  599599.0         0.158785         0.440948"
      ]
     },
     "execution_count": 92,
     "metadata": {},
     "output_type": "execute_result"
    }
   ],
   "source": [
    "den_df=pd.DataFrame(dense_df)\n",
    "den_df"
   ]
  },
  {
   "cell_type": "code",
   "execution_count": 112,
   "id": "dbd1870b",
   "metadata": {},
   "outputs": [
    {
     "data": {
      "text/plain": [
       "[<matplotlib.axis.XTick at 0x7fb29fb90a00>,\n",
       " <matplotlib.axis.XTick at 0x7fb29fb909a0>,\n",
       " <matplotlib.axis.XTick at 0x7fb29fb88f10>,\n",
       " <matplotlib.axis.XTick at 0x7fb29fbcf7c0>,\n",
       " <matplotlib.axis.XTick at 0x7fb29fbbf070>,\n",
       " <matplotlib.axis.XTick at 0x7fb29fbbf6a0>]"
      ]
     },
     "execution_count": 112,
     "metadata": {},
     "output_type": "execute_result"
    },
    {
     "data": {
      "image/png": "[encoded data removed]",
      "text/plain": [
       "<Figure size 432x288 with 1 Axes>"
      ]
     },
     "metadata": {
      "needs_background": "light"
     },
     "output_type": "display_data"
    }
   ],
   "source": [
    "X = np.arange(6)\n",
    "fig = plt.figure()\n",
    "ax = fig.add_axes([0,0,1,1])\n",
    "\n",
    "ax.bar(X + 0.00, den_df[\"time_dijkstra_1\"], color = 'lightblue', width = 0.25)\n",
    "ax.bar(X + 0.25, den_df[\"time_dijkstra_2\"], color = 'coral', width = 0.25)\n",
    "\n",
    "ax.legend(labels=['Matrix', 'List'])\n",
    "ax.set_ylabel('Time')\n",
    "ax.set_xlabel('Number of Vertex')\n",
    "ax.set_xticks(X+0.15, den_df[\"V\"])"
   ]
  },
  {
   "cell_type": "code",
   "execution_count": 114,
   "id": "016ebf55",
   "metadata": {},
   "outputs": [
    {
     "data": {
      "text/plain": [
       "[<matplotlib.axis.XTick at 0x7fb29faf9430>,\n",
       " <matplotlib.axis.XTick at 0x7fb29fbb4e50>,\n",
       " <matplotlib.axis.XTick at 0x7fb29f7db130>,\n",
       " <matplotlib.axis.XTick at 0x7fb29f939cd0>,\n",
       " <matplotlib.axis.XTick at 0x7fb29f6e2040>,\n",
       " <matplotlib.axis.XTick at 0x7fb29f6e2ac0>]"
      ]
     },
     "execution_count": 114,
     "metadata": {},
     "output_type": "execute_result"
    },
    {
     "data": {
      "image/png": "[encoded data removed]",
      "text/plain": [
       "<Figure size 432x288 with 1 Axes>"
      ]
     },
     "metadata": {
      "needs_background": "light"
     },
     "output_type": "display_data"
    }
   ],
   "source": [
    "X = np.arange(6)\n",
    "fig = plt.figure()\n",
    "ax = fig.add_axes([0,0,1,1])\n",
    "\n",
    "ax.bar(X + 0.00, sparse_df[\"time_dijkstra_1\"], color = 'lightblue', width = 0.25)\n",
    "ax.bar(X + 0.25, sparse_df[\"time_dijkstra_2\"], color = 'coral', width = 0.25)\n",
    "\n",
    "ax.legend(labels=['Matrix', 'List'])\n",
    "ax.set_ylabel('Time')\n",
    "ax.set_xlabel('Number of Vertex')\n",
    "ax.set_xticks(X+0.15, den_df[\"V\"])"
   ]
  },
  {
   "cell_type": "markdown",
   "id": "c4eb46b4",
   "metadata": {},
   "source": []
  }
 ],
 "metadata": {
  "kernelspec": {
   "display_name": "Python 3 (ipykernel)",
   "language": "python",
   "name": "python3"
  },
  "language_info": {
   "codemirror_mode": {
    "name": "ipython",
    "version": 3
   },
   "file_extension": ".py",
   "mimetype": "text/x-python",
   "name": "python",
   "nbconvert_exporter": "python",
   "pygments_lexer": "ipython3",
   "version": "3.8.12"
  }
 },
 "nbformat": 4,
 "nbformat_minor": 5
}
