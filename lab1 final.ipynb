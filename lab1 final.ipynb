{
 "cells": [
  {
   "cell_type": "code",
   "execution_count": null,
   "id": "ZtvPPmrBDyoZ",
   "metadata": {
    "colab": {
     "base_uri": "https://localhost:8080/"
    },
    "executionInfo": {
     "elapsed": 4150,
     "status": "ok",
     "timestamp": 1662989063248,
     "user": {
      "displayName": "cool kid",
      "userId": "18387880585738887512"
     },
     "user_tz": -480
    },
    "id": "ZtvPPmrBDyoZ",
    "outputId": "5ec707fd-a5f5-4f2a-e602-ef9a114be5eb"
   },
   "outputs": [],
   "source": [
    "from google.colab import drive\n",
    "drive.mount('/content/drive')"
   ]
  },
  {
   "cell_type": "markdown",
   "id": "86761b37",
   "metadata": {
    "id": "86761b37"
   },
   "source": [
    "# SC2001 Project 1"
   ]
  },
  {
   "cell_type": "markdown",
   "id": "08b4a106",
   "metadata": {
    "id": "08b4a106"
   },
   "source": [
    "In Mergesort, when the sizes of subarrays are small, the overhead of many recursive calls makes the algorithm inefficient. Therefore, in real use, we often combine Mergesort with Insertion Sort to come up with a hybrid sorting algorithm for better efficiency. The idea is to set a small integer **S** as a threshold for the size of subarrays. Once the size of a subarray in a recursive call of Mergesort is less than or equal to **S**, the algorithm will switch to Insertion Sort, which is efficient for small-sized input."
   ]
  },
  {
   "cell_type": "markdown",
   "id": "88e93b6f",
   "metadata": {
    "id": "88e93b6f"
   },
   "source": [
    "## (a) Algorithm implementation"
   ]
  },
  {
   "cell_type": "markdown",
   "id": "ea6faa48",
   "metadata": {
    "id": "ea6faa48"
   },
   "source": [
    "### i. Insertion Sort"
   ]
  },
  {
   "cell_type": "code",
   "execution_count": 1,
   "id": "2dcfc7e4",
   "metadata": {
    "id": "2dcfc7e4"
   },
   "outputs": [],
   "source": [
    "iarr = [0] * 10000001\n",
    "\n",
    "def insertion_sort(l, r):\n",
    "    count = 0\n",
    "    for i in range(l, r + 1):\n",
    "        for j in range(i, l, -1):\n",
    "            if iarr[j] < iarr[j - 1]:\n",
    "                tmp = iarr[j]\n",
    "                iarr[j] = iarr[j - 1]\n",
    "                iarr[j - 1] = tmp\n",
    "                count += 1\n",
    "            else: break\n",
    "    return count"
   ]
  },
  {
   "cell_type": "markdown",
   "id": "0d0034a7",
   "metadata": {
    "id": "0d0034a7"
   },
   "source": [
    "- store the array numbers into **iarr**, then use **insertion_sort(0, len - 1)** to sort the array and calculate the count."
   ]
  },
  {
   "cell_type": "markdown",
   "id": "dd3cc9cc",
   "metadata": {
    "id": "dd3cc9cc"
   },
   "source": [
    "### ii. Merge Sort"
   ]
  },
  {
   "cell_type": "code",
   "execution_count": 2,
   "id": "d90d5590",
   "metadata": {
    "id": "d90d5590"
   },
   "outputs": [],
   "source": [
    "marr = [0] * 10000001\n",
    "mtmp = [0] * 10000001\n",
    "\n",
    "def merge_sort(l, r):\n",
    "    if(l == r): return 0\n",
    "    mid = l + (r-l)//2\n",
    "    count = 0\n",
    "    count += merge_sort(l, mid)\n",
    "    count += merge_sort(mid + 1, r)\n",
    "    pl = l\n",
    "    pr = mid + 1\n",
    "    p = l\n",
    "    while (pl <= mid) or (pr <= r):\n",
    "        count += 1\n",
    "        if (pr == r + 1) or ((pl != mid + 1) and (marr[pl] < marr[pr])):\n",
    "            mtmp[p] = marr[pl]\n",
    "            pl += 1\n",
    "        else:\n",
    "            mtmp[p] = marr[pr]\n",
    "            pr += 1\n",
    "        p += 1\n",
    "        \n",
    "    for i in range(l, r + 1):\n",
    "        marr[i] = mtmp[i];\n",
    "    return count"
   ]
  },
  {
   "cell_type": "markdown",
   "id": "57908c6d",
   "metadata": {
    "id": "57908c6d"
   },
   "source": [
    "- store the array numbers into **marr**, then use **merge_sort(0, len - 1)** to sort the array and calculate the count."
   ]
  },
  {
   "cell_type": "markdown",
   "id": "0209de12",
   "metadata": {
    "id": "0209de12"
   },
   "source": [
    "### iii. Hybrid Sort"
   ]
  },
  {
   "cell_type": "code",
   "execution_count": 3,
   "id": "21297e57",
   "metadata": {
    "id": "21297e57"
   },
   "outputs": [],
   "source": [
    "harr = [0] * 10000001\n",
    "htmp = [0] * 10000001\n",
    "\n",
    "def hybrid_sort(l, r, threshold):\n",
    "    if(r - l + 1 <= threshold):\n",
    "        count = 0\n",
    "        for i in range(l, r + 1):\n",
    "            for j in range(i, l, -1):\n",
    "                if harr[j] < harr[j - 1]:\n",
    "                    tmp = harr[j]\n",
    "                    harr[j] = harr[j - 1]\n",
    "                    harr[j - 1] = tmp\n",
    "                    count += 1\n",
    "                else: break\n",
    "        return count\n",
    "    else:\n",
    "        mid = (l + r) // 2\n",
    "        count = 0\n",
    "        count += hybrid_sort(l, mid, threshold)\n",
    "        count += hybrid_sort(mid + 1, r, threshold)\n",
    "        pl = l\n",
    "        pr = mid + 1\n",
    "        p = l\n",
    "        while (pl <= mid) or (pr <= r):\n",
    "            count += 1\n",
    "            if (pr == r + 1) or ((pl != mid + 1) and (harr[pl] < harr[pr])):\n",
    "                htmp[p] = harr[pl]\n",
    "                pl += 1\n",
    "            else:\n",
    "                htmp[p] = harr[pr]\n",
    "                pr += 1\n",
    "            p += 1\n",
    "\n",
    "        for i in range(l, r + 1):\n",
    "            harr[i] = htmp[i];\n",
    "        return count"
   ]
  },
  {
   "cell_type": "markdown",
   "id": "c97f7a85",
   "metadata": {
    "id": "c97f7a85"
   },
   "source": [
    "- store the array numbers into **harr**, then use **hybrid_sort(0, len - 1, threshold)** to sort the array and calculate the count."
   ]
  },
  {
   "cell_type": "markdown",
   "id": "d68aa193",
   "metadata": {
    "id": "d68aa193"
   },
   "source": [
    "## (b) Generate input data"
   ]
  },
  {
   "cell_type": "code",
   "execution_count": null,
   "id": "047f48d9",
   "metadata": {
    "id": "047f48d9"
   },
   "outputs": [],
   "source": [
    "import random\n",
    "def generate_data():\n",
    "    m = 1000\n",
    "    while m <= 1000000:\n",
    "        for n in range(m, m * 10, m):\n",
    "            arr = []\n",
    "            for i in range(1, n + 1):\n",
    "                arr.append(i)\n",
    "            random.shuffle(arr)\n",
    "            textfile = open(\"data/data_\" + str(n) + \".txt\", \"w\")\n",
    "            textfile.write(str(arr))\n",
    "            textfile.close()\n",
    "        m *= 10;\n",
    "    arr = []\n",
    "    for i in range(1, m + 1):\n",
    "        arr.append(i)\n",
    "    random.shuffle(arr)\n",
    "    textfile = open(\"data/data_\" + str(m) + \".txt\", \"w\")\n",
    "    textfile.write(str(arr))\n",
    "    textfile.close()\n",
    "\n",
    "generate_data()"
   ]
  },
  {
   "cell_type": "markdown",
   "id": "51d95308",
   "metadata": {
    "id": "51d95308"
   },
   "source": [
    "- The code is to generate the data: <br>\n",
    "n = 1000, 2000, ... , 8000, 9000 <br>\n",
    "n = 10000, 20000, ... , 80000, 90000 <br>\n",
    "... <br>\n",
    "n = 1000000, 2000000, ... , 8000000, 9000000, 10000000 <br>\n",
    "- The form of datasets is **data_\\<size\\>.txt**"
   ]
  },
  {
   "cell_type": "code",
   "execution_count": 4,
   "id": "f0f697df",
   "metadata": {
    "id": "f0f697df"
   },
   "outputs": [],
   "source": [
    "sample_size = 1000\n",
    "file = open(\"data/data_\" + str(sample_size) + \".txt\", \"r\")\n",
    "arr = (file.read())[1:-1].split(', ')\n",
    "arr = [int(i) for i in arr]\n",
    "# print(arr)"
   ]
  },
  {
   "cell_type": "markdown",
   "id": "3a36d56e",
   "metadata": {
    "id": "3a36d56e"
   },
   "source": [
    "- The way of reading the data list from file."
   ]
  },
  {
   "cell_type": "markdown",
   "id": "65d78df3",
   "metadata": {
    "id": "65d78df3"
   },
   "source": [
    "## (c) Analyze time complexity"
   ]
  },
  {
   "cell_type": "markdown",
   "id": "623ee29e",
   "metadata": {
    "id": "623ee29e"
   },
   "source": [
    "Let's assume the **threshold** = $S$\n",
    "\n",
    "- For **insertion sort** :\n",
    "\n",
    "Each subarray with the length of $S$, the best case of count $O(S)$ and the worst case $O(S^2)$\n",
    "\n",
    "As there's $\\frac{n}{S}$ blocks, the best case of total cost $O(S\\times\\frac{n}{S})=O(n)$ and the worst case $O(S^2\\times\\frac{n}{S})=O(Sn)$\n",
    "\n",
    "- For **merge sort** :\n",
    "\n",
    "Since the length of threshold is $S$, there's would be $\\log(\\frac{n}{S})$ interations of merge sort\n",
    "\n",
    "For each iteration, the cost of merging is $O(n)$, thus total cost of merge sort part is $O(n\\times\\log(\\frac{n}{S}))$\n",
    "\n",
    "- For **hybrid sort** :\n",
    "\n",
    "The best case : $O(n + n\\times \\log(\\frac{n}{S}))$\n",
    "\n",
    "The worst case : $O(Sn + n\\times\\log(\\frac{n}{S}))$"
   ]
  },
  {
   "cell_type": "code",
   "execution_count": 5,
   "id": "c20fe60d",
   "metadata": {
    "id": "c20fe60d"
   },
   "outputs": [],
   "source": [
    "import math\n",
    "import pandas as pd\n",
    "import numpy as np\n",
    "import matplotlib.pyplot as plt"
   ]
  },
  {
   "cell_type": "markdown",
   "id": "44d677df",
   "metadata": {
    "id": "44d677df"
   },
   "source": [
    "### i. With the value of S fixed, plot the number of key comparisons over different sizes of the input list n. Compare your empirical results with your theoretical analysis of the time complexity."
   ]
  },
  {
   "cell_type": "markdown",
   "id": "09975c0d",
   "metadata": {
    "id": "09975c0d"
   },
   "source": [
    "- here we fix S (threshold) at 15, and consider the dataset_size at 1000, 10000, ... , 10000000"
   ]
  },
  {
   "cell_type": "code",
   "execution_count": 6,
   "id": "95b9af9c",
   "metadata": {
    "id": "95b9af9c",
    "scrolled": true
   },
   "outputs": [
    {
     "name": "stdout",
     "output_type": "stream",
     "text": [
      "   dataset_size  best_case  real_case  worst_case\n",
      "0          1000       7058       9041       21058\n",
      "1         10000     103808     121572      243808\n",
      "2        100000    1370274    1579631     2770274\n",
      "3       1000000   17024677   19295669    31024677\n",
      "4      10000000  203466060  221405031   343466060\n"
     ]
    },
    {
     "data": {
      "image/png": "[encoded data removed]",
      "text/plain": [
       "<Figure size 432x288 with 1 Axes>"
      ]
     },
     "metadata": {
      "needs_background": "light"
     },
     "output_type": "display_data"
    }
   ],
   "source": [
    "datasets = [1000, 10000, 100000, 1000000, 10000000]\n",
    "\n",
    "best_case = []\n",
    "real_case = []\n",
    "worst_case = []\n",
    "\n",
    "for size in datasets:\n",
    "    file = open(\"data/data_\" + str(size) + \".txt\", \"r\")\n",
    "    arr = (file.read())[1:-1].split(', ')\n",
    "    arr = [int(i) for i in arr]\n",
    "    harr = arr\n",
    "    best_case.append(int(size + size * math.log2(size / 15)))\n",
    "    real_case.append(hybrid_sort(0, size - 1, 15))\n",
    "    worst_case.append(int(size * 15 + size * math.log2(size / 15)))\n",
    "\n",
    "df = pd.DataFrame({'dataset_size': datasets, 'best_case': best_case, 'real_case': real_case, 'worst_case': worst_case})\n",
    "print(df)\n",
    "plt.plot(datasets, best_case, label=\"best_case\")\n",
    "plt.plot(datasets, real_case, label=\"real_case\")\n",
    "plt.plot(datasets, worst_case, label=\"worst_case\")\n",
    "plt.ylabel('count')\n",
    "plt.legend()\n",
    "plt.show()"
   ]
  },
  {
   "cell_type": "markdown",
   "id": "6ed0b03b",
   "metadata": {
    "id": "6ed0b03b"
   },
   "source": [
    "### ii. With the input size n fixed, plot the number of key comparisons over different values of S. Compare your empirical results with your theoretical analysis of the time complexity."
   ]
  },
  {
   "cell_type": "markdown",
   "id": "4a04523d",
   "metadata": {
    "id": "4a04523d"
   },
   "source": [
    "- here we fix the dataset size at 10_000_000, and consider the threshold at [1, 30]"
   ]
  },
  {
   "cell_type": "code",
   "execution_count": 7,
   "id": "5dcc7f77",
   "metadata": {
    "id": "5dcc7f77",
    "scrolled": true
   },
   "outputs": [
    {
     "name": "stdout",
     "output_type": "stream",
     "text": [
      "    threshold  best_case  real_case  worst_case\n",
      "0           1  242534966  233222784   242534966\n",
      "1           2  232534966  226930625   242534966\n",
      "2           3  226685341  223708672   246685341\n",
      "3           4  222534966  222735783   252534966\n",
      "4           5  219315685  219513361   259315685\n",
      "5           6  216685341  219513361   266685341\n",
      "6           7  214461417  219513361   274461417\n",
      "7           8  212534966  219513361   282534966\n",
      "8           9  210835716  219996164   290835716\n",
      "9          10  209315685  221405031   299315685\n",
      "10         11  207940650  221405031   307940650\n",
      "11         12  206685341  221405031   316685341\n",
      "12         13  205530569  221405031   325530569\n",
      "13         14  204461417  221405031   334461417\n",
      "14         15  203466060  221405031   343466060\n",
      "15         16  202534966  221405031   352534966\n",
      "16         17  201660338  221405031   361660338\n",
      "17         18  200835716  221405031   370835716\n",
      "18         19  200055691  234020557   380055691\n",
      "19         20  199315685  235172174   389315685\n",
      "20         21  198611792  235172174   398611792\n",
      "21         22  197940650  235172174   407940650\n",
      "22         23  197299347  235172174   417299347\n",
      "23         24  196685341  235172174   426685341\n",
      "24         25  196096404  235172174   436096404\n",
      "25         26  195530569  235172174   445530569\n",
      "26         27  194986091  235172174   454986091\n",
      "27         28  194461417  235172174   464461417\n",
      "28         29  193955156  235172174   473955156\n",
      "29         30  193466060  235172174   483466060\n"
     ]
    },
    {
     "data": {
      "image/png": "[encoded data removed]",
      "text/plain": [
       "<Figure size 432x288 with 1 Axes>"
      ]
     },
     "metadata": {
      "needs_background": "light"
     },
     "output_type": "display_data"
    }
   ],
   "source": [
    "def getCountsPerThreshold(size: int, printDataFrame: bool) -> list[int]:\n",
    "    best_case = []\n",
    "    real_case = []\n",
    "    worst_case = []\n",
    "    file = open(\"data/data_\" + str(size) + \".txt\", \"r\")\n",
    "    arr = (file.read())[1:-1].split(', ')\n",
    "    arr = [int(i) for i in arr]\n",
    "    for threshold in range(1, 31):\n",
    "        global harr\n",
    "        harr = [i for i in arr]\n",
    "        best_case.append(int(size + size * math.log2(size / threshold)))\n",
    "        real_case.append(hybrid_sort(0, size - 1, threshold))\n",
    "        worst_case.append(int(size * threshold + size * math.log2(size / threshold)))\n",
    "\n",
    "    df = pd.DataFrame({'threshold': range(1, 31), 'best_case': best_case, 'real_case': real_case, 'worst_case': worst_case})\n",
    "    if printDataFrame:\n",
    "        print(df)\n",
    "    plt.plot(range(1, 31), best_case, label=\"best_case\")\n",
    "    plt.plot(range(1, 31), real_case, label=\"real_case\")\n",
    "    plt.plot(range(1, 31), worst_case, label=\"worst_case\")\n",
    "    plt.ylabel('count')\n",
    "    plt.legend()\n",
    "    plt.show()\n",
    "    return real_case\n",
    "\n",
    "countsPerThreshold_10m = getCountsPerThreshold(10_000_000, True)"
   ]
  },
  {
   "cell_type": "markdown",
   "id": "e89ffb52",
   "metadata": {
    "id": "e89ffb52"
   },
   "source": [
    "- You may find that when threshold is very small, the real_case of key comparison may be lower than best_case of expectation. That's because when the data is randomly generated, the real case may be less than expected case."
   ]
  },
  {
   "cell_type": "markdown",
   "id": "24cee835",
   "metadata": {
    "id": "24cee835"
   },
   "source": [
    "### iii. Using different sizes of input datasets, study how to determine an optimal value of S for the best performance of this hybrid algorithm."
   ]
  },
  {
   "cell_type": "markdown",
   "id": "7229e1da",
   "metadata": {
    "id": "7229e1da"
   },
   "source": [
    "- Plot values of s(threshold) against count(number of comparisons) for size of N in [1000, 10_000, 100_000, 1_000_000, 10_000_000]."
   ]
  },
  {
   "cell_type": "code",
   "execution_count": 8,
   "id": "9f8fc9e4",
   "metadata": {
    "id": "9f8fc9e4"
   },
   "outputs": [
    {
     "data": {
      "image/png": "[encoded data removed]",
      "text/plain": [
       "<Figure size 432x288 with 1 Axes>"
      ]
     },
     "metadata": {
      "needs_background": "light"
     },
     "output_type": "display_data"
    },
    {
     "name": "stdout",
     "output_type": "stream",
     "text": [
      "For input size 1000, threshold which yields the minimum number of comparisons is [8, 14]\n"
     ]
    },
    {
     "data": {
      "image/png": "[encoded data removed]",
      "text/plain": [
       "<Figure size 432x288 with 1 Axes>"
      ]
     },
     "metadata": {
      "needs_background": "light"
     },
     "output_type": "display_data"
    },
    {
     "name": "stdout",
     "output_type": "stream",
     "text": [
      "For input size 10000, threshold which yields the minimum number of comparisons is [5, 8]\n"
     ]
    },
    {
     "data": {
      "image/png": "[encoded data removed]",
      "text/plain": [
       "<Figure size 432x288 with 1 Axes>"
      ]
     },
     "metadata": {
      "needs_background": "light"
     },
     "output_type": "display_data"
    },
    {
     "name": "stdout",
     "output_type": "stream",
     "text": [
      "For input size 100000, threshold which yields the minimum number of comparisons is [7, 11]\n"
     ]
    },
    {
     "data": {
      "image/png": "[encoded data removed]",
      "text/plain": [
       "<Figure size 432x288 with 1 Axes>"
      ]
     },
     "metadata": {
      "needs_background": "light"
     },
     "output_type": "display_data"
    },
    {
     "name": "stdout",
     "output_type": "stream",
     "text": [
      "For input size 1000000, threshold which yields the minimum number of comparisons is [8, 14]\n"
     ]
    },
    {
     "data": {
      "text/html": [
       "<style type=\"text/css\">\n",
       "#T_6004c_row4_col1, #T_6004c_row4_col2, #T_6004c_row5_col1, #T_6004c_row5_col2, #T_6004c_row6_col1, #T_6004c_row6_col2, #T_6004c_row6_col3, #T_6004c_row7_col0, #T_6004c_row7_col1, #T_6004c_row7_col2, #T_6004c_row7_col3, #T_6004c_row7_col4, #T_6004c_row8_col0, #T_6004c_row8_col3, #T_6004c_row8_col4, #T_6004c_row9_col0, #T_6004c_row9_col3, #T_6004c_row9_col4, #T_6004c_row10_col0, #T_6004c_row10_col3, #T_6004c_row10_col4, #T_6004c_row11_col0, #T_6004c_row11_col4, #T_6004c_row12_col0, #T_6004c_row12_col4, #T_6004c_row13_col0, #T_6004c_row13_col4 {\n",
       "  color: white;\n",
       "  background-color: darkblue;\n",
       "}\n",
       "</style>\n",
       "<table id=\"T_6004c_\">\n",
       "  <thead>\n",
       "    <tr>\n",
       "      <th class=\"blank level0\" >&nbsp;</th>\n",
       "      <th class=\"col_heading level0 col0\" >1000</th>\n",
       "      <th class=\"col_heading level0 col1\" >10000000</th>\n",
       "      <th class=\"col_heading level0 col2\" >10000</th>\n",
       "      <th class=\"col_heading level0 col3\" >100000</th>\n",
       "      <th class=\"col_heading level0 col4\" >1000000</th>\n",
       "    </tr>\n",
       "  </thead>\n",
       "  <tbody>\n",
       "    <tr>\n",
       "      <th id=\"T_6004c_level0_row0\" class=\"row_heading level0 row0\" >1</th>\n",
       "      <td id=\"T_6004c_row0_col0\" class=\"data row0 col0\" >9976</td>\n",
       "      <td id=\"T_6004c_row0_col1\" class=\"data row0 col1\" >233222784</td>\n",
       "      <td id=\"T_6004c_row0_col2\" class=\"data row0 col2\" >133616</td>\n",
       "      <td id=\"T_6004c_row0_col3\" class=\"data row0 col3\" >1668928</td>\n",
       "      <td id=\"T_6004c_row0_col4\" class=\"data row0 col4\" >19951424</td>\n",
       "    </tr>\n",
       "    <tr>\n",
       "      <th id=\"T_6004c_level0_row1\" class=\"row_heading level0 row1\" >2</th>\n",
       "      <td id=\"T_6004c_row1_col0\" class=\"data row1 col0\" >9229</td>\n",
       "      <td id=\"T_6004c_row1_col1\" class=\"data row1 col1\" >226930625</td>\n",
       "      <td id=\"T_6004c_row1_col2\" class=\"data row1 col2\" >127457</td>\n",
       "      <td id=\"T_6004c_row1_col3\" class=\"data row1 col3\" >1617136</td>\n",
       "      <td id=\"T_6004c_row1_col4\" class=\"data row1 col4\" >19238250</td>\n",
       "    </tr>\n",
       "    <tr>\n",
       "      <th id=\"T_6004c_level0_row2\" class=\"row_heading level0 row2\" >3</th>\n",
       "      <td id=\"T_6004c_row2_col0\" class=\"data row2 col0\" >9188</td>\n",
       "      <td id=\"T_6004c_row2_col1\" class=\"data row2 col1\" >223708672</td>\n",
       "      <td id=\"T_6004c_row2_col2\" class=\"data row2 col2\" >123813</td>\n",
       "      <td id=\"T_6004c_row2_col3\" class=\"data row2 col3\" >1554921</td>\n",
       "      <td id=\"T_6004c_row2_col4\" class=\"data row2 col4\" >19140972</td>\n",
       "    </tr>\n",
       "    <tr>\n",
       "      <th id=\"T_6004c_level0_row3\" class=\"row_heading level0 row3\" >4</th>\n",
       "      <td id=\"T_6004c_row3_col0\" class=\"data row3 col0\" >8754</td>\n",
       "      <td id=\"T_6004c_row3_col1\" class=\"data row3 col1\" >222735783</td>\n",
       "      <td id=\"T_6004c_row3_col2\" class=\"data row3 col2\" >123350</td>\n",
       "      <td id=\"T_6004c_row3_col3\" class=\"data row3 col3\" >1551526</td>\n",
       "      <td id=\"T_6004c_row3_col4\" class=\"data row3 col4\" >18714142</td>\n",
       "    </tr>\n",
       "    <tr>\n",
       "      <th id=\"T_6004c_level0_row4\" class=\"row_heading level0 row4\" >5</th>\n",
       "      <td id=\"T_6004c_row4_col0\" class=\"data row4 col0\" >8754</td>\n",
       "      <td id=\"T_6004c_row4_col1\" class=\"data row4 col1\" >219513361</td>\n",
       "      <td id=\"T_6004c_row4_col2\" class=\"data row4 col2\" >119718</td>\n",
       "      <td id=\"T_6004c_row4_col3\" class=\"data row4 col3\" >1551526</td>\n",
       "      <td id=\"T_6004c_row4_col4\" class=\"data row4 col4\" >18714142</td>\n",
       "    </tr>\n",
       "    <tr>\n",
       "      <th id=\"T_6004c_level0_row5\" class=\"row_heading level0 row5\" >6</th>\n",
       "      <td id=\"T_6004c_row5_col0\" class=\"data row5 col0\" >8754</td>\n",
       "      <td id=\"T_6004c_row5_col1\" class=\"data row5 col1\" >219513361</td>\n",
       "      <td id=\"T_6004c_row5_col2\" class=\"data row5 col2\" >119718</td>\n",
       "      <td id=\"T_6004c_row5_col3\" class=\"data row5 col3\" >1529474</td>\n",
       "      <td id=\"T_6004c_row5_col4\" class=\"data row5 col4\" >18714142</td>\n",
       "    </tr>\n",
       "    <tr>\n",
       "      <th id=\"T_6004c_level0_row6\" class=\"row_heading level0 row6\" >7</th>\n",
       "      <td id=\"T_6004c_row6_col0\" class=\"data row6 col0\" >8712</td>\n",
       "      <td id=\"T_6004c_row6_col1\" class=\"data row6 col1\" >219513361</td>\n",
       "      <td id=\"T_6004c_row6_col2\" class=\"data row6 col2\" >119718</td>\n",
       "      <td id=\"T_6004c_row6_col3\" class=\"data row6 col3\" >1527731</td>\n",
       "      <td id=\"T_6004c_row6_col4\" class=\"data row6 col4\" >18665227</td>\n",
       "    </tr>\n",
       "    <tr>\n",
       "      <th id=\"T_6004c_level0_row7\" class=\"row_heading level0 row7\" >8</th>\n",
       "      <td id=\"T_6004c_row7_col0\" class=\"data row7 col0\" >8701</td>\n",
       "      <td id=\"T_6004c_row7_col1\" class=\"data row7 col1\" >219513361</td>\n",
       "      <td id=\"T_6004c_row7_col2\" class=\"data row7 col2\" >119718</td>\n",
       "      <td id=\"T_6004c_row7_col3\" class=\"data row7 col3\" >1527731</td>\n",
       "      <td id=\"T_6004c_row7_col4\" class=\"data row7 col4\" >18663969</td>\n",
       "    </tr>\n",
       "    <tr>\n",
       "      <th id=\"T_6004c_level0_row8\" class=\"row_heading level0 row8\" >9</th>\n",
       "      <td id=\"T_6004c_row8_col0\" class=\"data row8 col0\" >8701</td>\n",
       "      <td id=\"T_6004c_row8_col1\" class=\"data row8 col1\" >219996164</td>\n",
       "      <td id=\"T_6004c_row8_col2\" class=\"data row8 col2\" >119918</td>\n",
       "      <td id=\"T_6004c_row8_col3\" class=\"data row8 col3\" >1527731</td>\n",
       "      <td id=\"T_6004c_row8_col4\" class=\"data row8 col4\" >18663969</td>\n",
       "    </tr>\n",
       "    <tr>\n",
       "      <th id=\"T_6004c_level0_row9\" class=\"row_heading level0 row9\" >10</th>\n",
       "      <td id=\"T_6004c_row9_col0\" class=\"data row9 col0\" >8701</td>\n",
       "      <td id=\"T_6004c_row9_col1\" class=\"data row9 col1\" >221405031</td>\n",
       "      <td id=\"T_6004c_row9_col2\" class=\"data row9 col2\" >121572</td>\n",
       "      <td id=\"T_6004c_row9_col3\" class=\"data row9 col3\" >1527731</td>\n",
       "      <td id=\"T_6004c_row9_col4\" class=\"data row9 col4\" >18663969</td>\n",
       "    </tr>\n",
       "    <tr>\n",
       "      <th id=\"T_6004c_level0_row10\" class=\"row_heading level0 row10\" >11</th>\n",
       "      <td id=\"T_6004c_row10_col0\" class=\"data row10 col0\" >8701</td>\n",
       "      <td id=\"T_6004c_row10_col1\" class=\"data row10 col1\" >221405031</td>\n",
       "      <td id=\"T_6004c_row10_col2\" class=\"data row10 col2\" >121572</td>\n",
       "      <td id=\"T_6004c_row10_col3\" class=\"data row10 col3\" >1527731</td>\n",
       "      <td id=\"T_6004c_row10_col4\" class=\"data row10 col4\" >18663969</td>\n",
       "    </tr>\n",
       "    <tr>\n",
       "      <th id=\"T_6004c_level0_row11\" class=\"row_heading level0 row11\" >12</th>\n",
       "      <td id=\"T_6004c_row11_col0\" class=\"data row11 col0\" >8701</td>\n",
       "      <td id=\"T_6004c_row11_col1\" class=\"data row11 col1\" >221405031</td>\n",
       "      <td id=\"T_6004c_row11_col2\" class=\"data row11 col2\" >121572</td>\n",
       "      <td id=\"T_6004c_row11_col3\" class=\"data row11 col3\" >1566832</td>\n",
       "      <td id=\"T_6004c_row11_col4\" class=\"data row11 col4\" >18663969</td>\n",
       "    </tr>\n",
       "    <tr>\n",
       "      <th id=\"T_6004c_level0_row12\" class=\"row_heading level0 row12\" >13</th>\n",
       "      <td id=\"T_6004c_row12_col0\" class=\"data row12 col0\" >8701</td>\n",
       "      <td id=\"T_6004c_row12_col1\" class=\"data row12 col1\" >221405031</td>\n",
       "      <td id=\"T_6004c_row12_col2\" class=\"data row12 col2\" >121572</td>\n",
       "      <td id=\"T_6004c_row12_col3\" class=\"data row12 col3\" >1579631</td>\n",
       "      <td id=\"T_6004c_row12_col4\" class=\"data row12 col4\" >18663969</td>\n",
       "    </tr>\n",
       "    <tr>\n",
       "      <th id=\"T_6004c_level0_row13\" class=\"row_heading level0 row13\" >14</th>\n",
       "      <td id=\"T_6004c_row13_col0\" class=\"data row13 col0\" >8701</td>\n",
       "      <td id=\"T_6004c_row13_col1\" class=\"data row13 col1\" >221405031</td>\n",
       "      <td id=\"T_6004c_row13_col2\" class=\"data row13 col2\" >121572</td>\n",
       "      <td id=\"T_6004c_row13_col3\" class=\"data row13 col3\" >1579631</td>\n",
       "      <td id=\"T_6004c_row13_col4\" class=\"data row13 col4\" >18663969</td>\n",
       "    </tr>\n",
       "    <tr>\n",
       "      <th id=\"T_6004c_level0_row14\" class=\"row_heading level0 row14\" >15</th>\n",
       "      <td id=\"T_6004c_row14_col0\" class=\"data row14 col0\" >9041</td>\n",
       "      <td id=\"T_6004c_row14_col1\" class=\"data row14 col1\" >221405031</td>\n",
       "      <td id=\"T_6004c_row14_col2\" class=\"data row14 col2\" >121572</td>\n",
       "      <td id=\"T_6004c_row14_col3\" class=\"data row14 col3\" >1579631</td>\n",
       "      <td id=\"T_6004c_row14_col4\" class=\"data row14 col4\" >19295669</td>\n",
       "    </tr>\n",
       "    <tr>\n",
       "      <th id=\"T_6004c_level0_row15\" class=\"row_heading level0 row15\" >16</th>\n",
       "      <td id=\"T_6004c_row15_col0\" class=\"data row15 col0\" >9689</td>\n",
       "      <td id=\"T_6004c_row15_col1\" class=\"data row15 col1\" >221405031</td>\n",
       "      <td id=\"T_6004c_row15_col2\" class=\"data row15 col2\" >121572</td>\n",
       "      <td id=\"T_6004c_row15_col3\" class=\"data row15 col3\" >1579631</td>\n",
       "      <td id=\"T_6004c_row15_col4\" class=\"data row15 col4\" >19567477</td>\n",
       "    </tr>\n",
       "    <tr>\n",
       "      <th id=\"T_6004c_level0_row16\" class=\"row_heading level0 row16\" >17</th>\n",
       "      <td id=\"T_6004c_row16_col0\" class=\"data row16 col0\" >9689</td>\n",
       "      <td id=\"T_6004c_row16_col1\" class=\"data row16 col1\" >221405031</td>\n",
       "      <td id=\"T_6004c_row16_col2\" class=\"data row16 col2\" >121572</td>\n",
       "      <td id=\"T_6004c_row16_col3\" class=\"data row16 col3\" >1579631</td>\n",
       "      <td id=\"T_6004c_row16_col4\" class=\"data row16 col4\" >19567477</td>\n",
       "    </tr>\n",
       "    <tr>\n",
       "      <th id=\"T_6004c_level0_row17\" class=\"row_heading level0 row17\" >18</th>\n",
       "      <td id=\"T_6004c_row17_col0\" class=\"data row17 col0\" >9689</td>\n",
       "      <td id=\"T_6004c_row17_col1\" class=\"data row17 col1\" >221405031</td>\n",
       "      <td id=\"T_6004c_row17_col2\" class=\"data row17 col2\" >121572</td>\n",
       "      <td id=\"T_6004c_row17_col3\" class=\"data row17 col3\" >1579631</td>\n",
       "      <td id=\"T_6004c_row17_col4\" class=\"data row17 col4\" >19567477</td>\n",
       "    </tr>\n",
       "    <tr>\n",
       "      <th id=\"T_6004c_level0_row18\" class=\"row_heading level0 row18\" >19</th>\n",
       "      <td id=\"T_6004c_row18_col0\" class=\"data row18 col0\" >9689</td>\n",
       "      <td id=\"T_6004c_row18_col1\" class=\"data row18 col1\" >234020557</td>\n",
       "      <td id=\"T_6004c_row18_col2\" class=\"data row18 col2\" >127761</td>\n",
       "      <td id=\"T_6004c_row18_col3\" class=\"data row18 col3\" >1579631</td>\n",
       "      <td id=\"T_6004c_row18_col4\" class=\"data row18 col4\" >19567477</td>\n",
       "    </tr>\n",
       "    <tr>\n",
       "      <th id=\"T_6004c_level0_row19\" class=\"row_heading level0 row19\" >20</th>\n",
       "      <td id=\"T_6004c_row19_col0\" class=\"data row19 col0\" >9689</td>\n",
       "      <td id=\"T_6004c_row19_col1\" class=\"data row19 col1\" >235172174</td>\n",
       "      <td id=\"T_6004c_row19_col2\" class=\"data row19 col2\" >135743</td>\n",
       "      <td id=\"T_6004c_row19_col3\" class=\"data row19 col3\" >1579631</td>\n",
       "      <td id=\"T_6004c_row19_col4\" class=\"data row19 col4\" >19567477</td>\n",
       "    </tr>\n",
       "    <tr>\n",
       "      <th id=\"T_6004c_level0_row20\" class=\"row_heading level0 row20\" >21</th>\n",
       "      <td id=\"T_6004c_row20_col0\" class=\"data row20 col0\" >9689</td>\n",
       "      <td id=\"T_6004c_row20_col1\" class=\"data row20 col1\" >235172174</td>\n",
       "      <td id=\"T_6004c_row20_col2\" class=\"data row20 col2\" >135743</td>\n",
       "      <td id=\"T_6004c_row20_col3\" class=\"data row20 col3\" >1579631</td>\n",
       "      <td id=\"T_6004c_row20_col4\" class=\"data row20 col4\" >19567477</td>\n",
       "    </tr>\n",
       "    <tr>\n",
       "      <th id=\"T_6004c_level0_row21\" class=\"row_heading level0 row21\" >22</th>\n",
       "      <td id=\"T_6004c_row21_col0\" class=\"data row21 col0\" >9689</td>\n",
       "      <td id=\"T_6004c_row21_col1\" class=\"data row21 col1\" >235172174</td>\n",
       "      <td id=\"T_6004c_row21_col2\" class=\"data row21 col2\" >135743</td>\n",
       "      <td id=\"T_6004c_row21_col3\" class=\"data row21 col3\" >1579631</td>\n",
       "      <td id=\"T_6004c_row21_col4\" class=\"data row21 col4\" >19567477</td>\n",
       "    </tr>\n",
       "    <tr>\n",
       "      <th id=\"T_6004c_level0_row22\" class=\"row_heading level0 row22\" >23</th>\n",
       "      <td id=\"T_6004c_row22_col0\" class=\"data row22 col0\" >9689</td>\n",
       "      <td id=\"T_6004c_row22_col1\" class=\"data row22 col1\" >235172174</td>\n",
       "      <td id=\"T_6004c_row22_col2\" class=\"data row22 col2\" >135743</td>\n",
       "      <td id=\"T_6004c_row22_col3\" class=\"data row22 col3\" >1579631</td>\n",
       "      <td id=\"T_6004c_row22_col4\" class=\"data row22 col4\" >19567477</td>\n",
       "    </tr>\n",
       "    <tr>\n",
       "      <th id=\"T_6004c_level0_row23\" class=\"row_heading level0 row23\" >24</th>\n",
       "      <td id=\"T_6004c_row23_col0\" class=\"data row23 col0\" >9689</td>\n",
       "      <td id=\"T_6004c_row23_col1\" class=\"data row23 col1\" >235172174</td>\n",
       "      <td id=\"T_6004c_row23_col2\" class=\"data row23 col2\" >135743</td>\n",
       "      <td id=\"T_6004c_row23_col3\" class=\"data row23 col3\" >1693948</td>\n",
       "      <td id=\"T_6004c_row23_col4\" class=\"data row23 col4\" >19567477</td>\n",
       "    </tr>\n",
       "    <tr>\n",
       "      <th id=\"T_6004c_level0_row24\" class=\"row_heading level0 row24\" >25</th>\n",
       "      <td id=\"T_6004c_row24_col0\" class=\"data row24 col0\" >9689</td>\n",
       "      <td id=\"T_6004c_row24_col1\" class=\"data row24 col1\" >235172174</td>\n",
       "      <td id=\"T_6004c_row24_col2\" class=\"data row24 col2\" >135743</td>\n",
       "      <td id=\"T_6004c_row24_col3\" class=\"data row24 col3\" >1784304</td>\n",
       "      <td id=\"T_6004c_row24_col4\" class=\"data row24 col4\" >19567477</td>\n",
       "    </tr>\n",
       "    <tr>\n",
       "      <th id=\"T_6004c_level0_row25\" class=\"row_heading level0 row25\" >26</th>\n",
       "      <td id=\"T_6004c_row25_col0\" class=\"data row25 col0\" >9689</td>\n",
       "      <td id=\"T_6004c_row25_col1\" class=\"data row25 col1\" >235172174</td>\n",
       "      <td id=\"T_6004c_row25_col2\" class=\"data row25 col2\" >135743</td>\n",
       "      <td id=\"T_6004c_row25_col3\" class=\"data row25 col3\" >1784304</td>\n",
       "      <td id=\"T_6004c_row25_col4\" class=\"data row25 col4\" >19567477</td>\n",
       "    </tr>\n",
       "    <tr>\n",
       "      <th id=\"T_6004c_level0_row26\" class=\"row_heading level0 row26\" >27</th>\n",
       "      <td id=\"T_6004c_row26_col0\" class=\"data row26 col0\" >9689</td>\n",
       "      <td id=\"T_6004c_row26_col1\" class=\"data row26 col1\" >235172174</td>\n",
       "      <td id=\"T_6004c_row26_col2\" class=\"data row26 col2\" >135743</td>\n",
       "      <td id=\"T_6004c_row26_col3\" class=\"data row26 col3\" >1784304</td>\n",
       "      <td id=\"T_6004c_row26_col4\" class=\"data row26 col4\" >19567477</td>\n",
       "    </tr>\n",
       "    <tr>\n",
       "      <th id=\"T_6004c_level0_row27\" class=\"row_heading level0 row27\" >28</th>\n",
       "      <td id=\"T_6004c_row27_col0\" class=\"data row27 col0\" >9689</td>\n",
       "      <td id=\"T_6004c_row27_col1\" class=\"data row27 col1\" >235172174</td>\n",
       "      <td id=\"T_6004c_row27_col2\" class=\"data row27 col2\" >135743</td>\n",
       "      <td id=\"T_6004c_row27_col3\" class=\"data row27 col3\" >1784304</td>\n",
       "      <td id=\"T_6004c_row27_col4\" class=\"data row27 col4\" >19567477</td>\n",
       "    </tr>\n",
       "    <tr>\n",
       "      <th id=\"T_6004c_level0_row28\" class=\"row_heading level0 row28\" >29</th>\n",
       "      <td id=\"T_6004c_row28_col0\" class=\"data row28 col0\" >9689</td>\n",
       "      <td id=\"T_6004c_row28_col1\" class=\"data row28 col1\" >235172174</td>\n",
       "      <td id=\"T_6004c_row28_col2\" class=\"data row28 col2\" >135743</td>\n",
       "      <td id=\"T_6004c_row28_col3\" class=\"data row28 col3\" >1784304</td>\n",
       "      <td id=\"T_6004c_row28_col4\" class=\"data row28 col4\" >19567477</td>\n",
       "    </tr>\n",
       "    <tr>\n",
       "      <th id=\"T_6004c_level0_row29\" class=\"row_heading level0 row29\" >30</th>\n",
       "      <td id=\"T_6004c_row29_col0\" class=\"data row29 col0\" >9689</td>\n",
       "      <td id=\"T_6004c_row29_col1\" class=\"data row29 col1\" >235172174</td>\n",
       "      <td id=\"T_6004c_row29_col2\" class=\"data row29 col2\" >135743</td>\n",
       "      <td id=\"T_6004c_row29_col3\" class=\"data row29 col3\" >1784304</td>\n",
       "      <td id=\"T_6004c_row29_col4\" class=\"data row29 col4\" >20868589</td>\n",
       "    </tr>\n",
       "  </tbody>\n",
       "</table>\n"
      ],
      "text/plain": [
       "<pandas.io.formats.style.Styler at 0x7fdfc5360310>"
      ]
     },
     "execution_count": 8,
     "metadata": {},
     "output_type": "execute_result"
    }
   ],
   "source": [
    "# omit input size of 10million as it is already calculated above\n",
    "inputSizes = [1000, 10_000, 100_000, 1_000_000]\n",
    "result_dict = {}\n",
    "\n",
    "def getMinThresholdRange(counts: list[int]) -> (int,int):\n",
    "    minThreshold, maxThreshold = 0, 0\n",
    "    minCount = float('infinity')\n",
    "    \n",
    "    for index, count in enumerate(counts):\n",
    "        if count < minCount:\n",
    "            minCount, minThreshold = count, index + 1\n",
    "        if count == minCount:\n",
    "            maxThreshold = index + 1\n",
    "            \n",
    "    return (minThreshold, maxThreshold)\n",
    "            \n",
    "\n",
    "for size in inputSizes:\n",
    "    counts = getCountsPerThreshold(size, False)\n",
    "    minThreshold, maxThreshold = getMinThresholdRange(counts)\n",
    "    result_dict[size] = counts\n",
    "    print(f\"For input size {size}, threshold which yields the minimum number of comparisons is [{minThreshold}, {maxThreshold}]\")\n",
    "    \n",
    "    result_dict[10_000_000] = countsPerThreshold_10m\n",
    "    \n",
    "def highlight_min(s, props=''):\n",
    "    return np.where(s == np.amin(s.values), props, '')\n",
    "\n",
    "result_df = pd.DataFrame(result_dict)\n",
    "result_df.index = np.arange(1, len(result_df)+1)\n",
    "presentable_result = result_df.style.apply(highlight_min, props='color:white;background-color:darkblue', axis=0)\n",
    "presentable_result"
   ]
  },
  {
   "cell_type": "markdown",
   "id": "3d38bfe9",
   "metadata": {
    "id": "3d38bfe9"
   },
   "source": [
    "## (d) Compare with original Mergesort"
   ]
  },
  {
   "cell_type": "code",
   "execution_count": 11,
   "id": "6202d935",
   "metadata": {
    "id": "6202d935"
   },
   "outputs": [
    {
     "name": "stdout",
     "output_type": "stream",
     "text": [
      "  sort_functions key_comparasions           time_cost\n",
      "0    hybrid_sort        219513361   107.1745278340004\n",
      "1     merge_sort        233222784  109.33150066599956\n"
     ]
    },
    {
     "data": {
      "text/plain": [
       "<AxesSubplot:xlabel='sort_functions'>"
      ]
     },
     "execution_count": 11,
     "metadata": {},
     "output_type": "execute_result"
    },
    {
     "data": {
      "image/png": "[encoded data removed]",
      "text/plain": [
       "<Figure size 432x288 with 1 Axes>"
      ]
     },
     "metadata": {
      "needs_background": "light"
     },
     "output_type": "display_data"
    },
    {
     "data": {
      "image/png": "[encoded data removed]",
      "text/plain": [
       "<Figure size 432x288 with 1 Axes>"
      ]
     },
     "metadata": {
      "needs_background": "light"
     },
     "output_type": "display_data"
    }
   ],
   "source": [
    "import timeit\n",
    "threshold = getMinThresholdRange(countsPerThreshold_10m)[0]\n",
    "size = 10_000_000\n",
    "\n",
    "file = open(\"data/data_\" + str(size) + \".txt\", \"r\")\n",
    "arr = (file.read())[1:-1].split(', ')\n",
    "\n",
    "harr = [int(i) for i in arr]\n",
    "time_start_hybrid = timeit.default_timer()\n",
    "count_hybrid = hybrid_sort(0, size - 1, threshold)\n",
    "time_end_hybrid = timeit.default_timer()\n",
    "\n",
    "marr = [int(i) for i in arr]\n",
    "time_start_merge = timeit.default_timer()\n",
    "count_merge = merge_sort(0, size - 1)\n",
    "time_end_merge = timeit.default_timer()\n",
    "\n",
    "frame = pd.DataFrame(np.array([['hybrid_sort', count_hybrid, time_end_hybrid - time_start_hybrid], \n",
    "                               ['merge_sort', count_merge, time_end_merge - time_start_merge]]),\n",
    "                   columns=['sort_functions', 'key_comparasions', 'time_cost'])\n",
    "print(frame)\n",
    "frame[['key_comparasions','time_cost']] = frame[['key_comparasions',\"time_cost\"]].apply(pd.to_numeric)\n",
    "\n",
    "frame[['key_comparasions','sort_functions']].plot(kind='bar',y='key_comparasions',x='sort_functions')\n",
    "frame[['time_cost','sort_functions']].plot(kind='bar',y='time_cost',x='sort_functions',color=\"green\")"
   ]
  },
  {
   "cell_type": "markdown",
   "id": "dc9045f0",
   "metadata": {},
   "source": []
  }
 ],
 "metadata": {
  "colab": {
   "collapsed_sections": [],
   "provenance": []
  },
  "kernelspec": {
   "display_name": "Python 3 (ipykernel)",
   "language": "python",
   "name": "python3"
  },
  "language_info": {
   "codemirror_mode": {
    "name": "ipython",
    "version": 3
   },
   "file_extension": ".py",
   "mimetype": "text/x-python",
   "name": "python",
   "nbconvert_exporter": "python",
   "pygments_lexer": "ipython3",
   "version": "3.9.7"
  }
 },
 "nbformat": 4,
 "nbformat_minor": 5
}
