{
 "cells": [
  {
   "cell_type": "markdown",
   "id": "86761b37",
   "metadata": {
    "id": "86761b37"
   },
   "source": [
    "# SC2001 Project 1: Integration of Mergesort & Insertion Sort"
   ]
  },
  {
   "cell_type": "markdown",
   "id": "08b4a106",
   "metadata": {
    "id": "08b4a106"
   },
   "source": [
    "In Mergesort, when the sizes of subarrays are small, the overhead of many recursive calls makes the algorithm inefficient. Therefore, in real use, we often combine Mergesort with Insertion Sort to come up with a hybrid sorting algorithm for better efficiency. The idea is to set a small integer **S** as a threshold for the size of subarrays. Once the size of a subarray in a recursive call of Mergesort is less than or equal to **S**, the algorithm will switch to Insertion Sort, which is efficient for small-sized input."
   ]
  },
  {
   "cell_type": "markdown",
   "id": "88e93b6f",
   "metadata": {
    "id": "88e93b6f"
   },
   "source": [
    "## (a) Algorithm implementation"
   ]
  },
  {
   "cell_type": "markdown",
   "id": "ea6faa48",
   "metadata": {
    "id": "ea6faa48"
   },
   "source": [
    "### i. Insertion Sort"
   ]
  },
  {
   "cell_type": "code",
   "execution_count": 1,
   "id": "2dcfc7e4",
   "metadata": {
    "id": "2dcfc7e4"
   },
   "outputs": [],
   "source": [
    "ins_arr = [0] * 10000001\n",
    "\n",
    "def insertion_sort(l, r):\n",
    "    count = 0\n",
    "    for i in range(l, r + 1):\n",
    "        for j in range(i, l, -1):\n",
    "            if ins_arr[j] < ins_arr[j - 1]:\n",
    "                count += 1 #key comparison\n",
    "                tmp = ins_arr[j]\n",
    "                ins_arr[j] = ins_arr[j - 1]\n",
    "                ins_arr[j - 1] = tmp\n",
    "            else: break \n",
    "            #terminate once being greater or equal than last sorted item\n",
    "    return count"
   ]
  },
  {
   "cell_type": "markdown",
   "id": "0d0034a7",
   "metadata": {
    "id": "0d0034a7"
   },
   "source": [
    "- store the array numbers into **ins_arr**\n",
    "- then use **insertion_sort(0, len - 1)** to sort the array and calculate the number of key comparison"
   ]
  },
  {
   "cell_type": "markdown",
   "id": "dd3cc9cc",
   "metadata": {
    "id": "dd3cc9cc"
   },
   "source": [
    "### ii. Merge Sort"
   ]
  },
  {
   "cell_type": "code",
   "execution_count": 2,
   "id": "d90d5590",
   "metadata": {
    "id": "d90d5590"
   },
   "outputs": [],
   "source": [
    "merged_arr = [0] * 10000001 #allocate the largest space\n",
    "merged_temp = [0] * 10000001\n",
    "\n",
    "def merge_sort(left, right):\n",
    "    #divide \n",
    "    if(left == right): return 0\n",
    "    mid = left + (right-left)//2\n",
    "    count = 0\n",
    "    count += merge_sort(left, mid)\n",
    "    count += merge_sort(mid + 1, right)\n",
    "    \n",
    "    #merge \n",
    "    ptr_l = left\n",
    "    ptr_r = mid + 1\n",
    "    ptr = left\n",
    "    while (ptr_l <= mid) or (ptr_r <= right):\n",
    "        count += 1\n",
    "        if (ptr_r == right + 1) or ((ptr_l != mid + 1) and (merged_arr[ptr_l] < merged_arr[ptr_r])): \n",
    "            merged_temp[ptr] = merged_arr[ptr_l]\n",
    "            ptr_l += 1\n",
    "        else:\n",
    "            merged_temp[ptr] = merged_arr[ptr_r]\n",
    "            ptr_r += 1\n",
    "        ptr += 1\n",
    "        \n",
    "    for i in range(left, right + 1):\n",
    "        merged_arr[i] = merged_temp[i];\n",
    "    return count"
   ]
  },
  {
   "cell_type": "markdown",
   "id": "57908c6d",
   "metadata": {
    "id": "57908c6d"
   },
   "source": [
    "- store the array numbers into **merged_arr**\n",
    "- then use **merge_sort(0, len - 1)** to sort the array and calculate the number of key comparison"
   ]
  },
  {
   "cell_type": "markdown",
   "id": "0209de12",
   "metadata": {
    "id": "0209de12"
   },
   "source": [
    "### iii. Hybrid Sort"
   ]
  },
  {
   "cell_type": "code",
   "execution_count": 13,
   "id": "21297e57",
   "metadata": {
    "id": "21297e57"
   },
   "outputs": [],
   "source": [
    "harr = [0] * 10000001\n",
    "htmp = [0] * 10000001\n",
    "\n",
    "def hybrid_sort(l, r, threshold):\n",
    "    if(r - l + 1 <= threshold):\n",
    "        count = 0\n",
    "        for i in range(l, r + 1):\n",
    "            for j in range(i, l, -1):\n",
    "                if harr[j] < harr[j - 1]:\n",
    "                    tmp = harr[j]\n",
    "                    harr[j] = harr[j - 1]\n",
    "                    harr[j - 1] = tmp\n",
    "                    count += 1\n",
    "                else: break\n",
    "        return count\n",
    "    else:\n",
    "        mid = (l + r) // 2\n",
    "        count = 0\n",
    "        count += hybrid_sort(l, mid, threshold)\n",
    "        count += hybrid_sort(mid + 1, r, threshold)\n",
    "        pl = l\n",
    "        pr = mid + 1\n",
    "        p = l\n",
    "        while (pl <= mid) or (pr <= r):\n",
    "            count += 1\n",
    "            if (pr == r + 1) or ((pl != mid + 1) and (harr[pl] < harr[pr])):\n",
    "                htmp[p] = harr[pl]\n",
    "                pl += 1\n",
    "            else:\n",
    "                htmp[p] = harr[pr]\n",
    "                pr += 1\n",
    "            p += 1\n",
    "\n",
    "        for i in range(l, r + 1):\n",
    "            harr[i] = htmp[i];\n",
    "        return count"
   ]
  },
  {
   "cell_type": "markdown",
   "id": "c97f7a85",
   "metadata": {
    "id": "c97f7a85"
   },
   "source": [
    "- store the array numbers into **harr**, then use **hybrid_sort(0, len - 1, threshold)** to sort the array and calculate the count."
   ]
  },
  {
   "cell_type": "markdown",
   "id": "d68aa193",
   "metadata": {
    "id": "d68aa193"
   },
   "source": [
    "## (b) Generate input data"
   ]
  },
  {
   "cell_type": "code",
   "execution_count": null,
   "id": "047f48d9",
   "metadata": {
    "id": "047f48d9"
   },
   "outputs": [],
   "source": [
    "import random\n",
    "def generate_data():\n",
    "    m = 1000\n",
    "    while m <= 1000000:\n",
    "        for n in range(m, m * 10, m):\n",
    "            arr = []\n",
    "            for i in range(1, n + 1):\n",
    "                arr.append(i)\n",
    "            random.shuffle(arr)\n",
    "            textfile = open(\"data/data_\" + str(n) + \".txt\", \"w\")\n",
    "            textfile.write(str(arr))\n",
    "            textfile.close()\n",
    "        m *= 10;\n",
    "    arr = []\n",
    "    for i in range(1, m + 1):\n",
    "        arr.append(i)\n",
    "    random.shuffle(arr)\n",
    "    textfile = open(\"data/data_\" + str(m) + \".txt\", \"w\")\n",
    "    textfile.write(str(arr))\n",
    "    textfile.close()\n",
    "\n",
    "generate_data()"
   ]
  },
  {
   "cell_type": "markdown",
   "id": "51d95308",
   "metadata": {
    "id": "51d95308"
   },
   "source": [
    "- The code is to generate the data: <br>\n",
    "n = 1000, 2000, ... , 8000, 9000 <br>\n",
    "n = 10000, 20000, ... , 80000, 90000 <br>\n",
    "... <br>\n",
    "n = 1000000, 2000000, ... , 8000000, 9000000, 10000000 <br>\n",
    "- The file name of datasets is **data_\\<size\\>.txt**"
   ]
  },
  {
   "cell_type": "code",
   "execution_count": 4,
   "id": "f0f697df",
   "metadata": {
    "id": "f0f697df",
    "scrolled": true
   },
   "outputs": [
    {
     "name": "stdout",
     "output_type": "stream",
     "text": [
      "[974, 226, 124, 755, 935, 15, 53, 653, 236, 517, 336, 152, 958, 376, 439, 167, 6, 392, 515, 663, 104, 241, 679, 239, 869, 234, 630, 194, 516, 195, 145, 564, 209, 887, 133, 593, 185, 904, 384, 404, 345, 588, 690, 724, 264, 18, 977, 377, 785, 841, 295, 45, 164, 549, 922, 529, 621, 613, 123, 699, 354, 464, 488, 447, 649, 761, 592, 503, 770, 321, 143, 141, 965, 4, 324, 77, 466, 114, 456, 670, 892, 847, 665, 794, 919, 357, 262, 122, 846, 273, 533, 421, 339, 531, 495, 607, 591, 835, 342, 718, 890, 806, 519, 658, 70, 506, 512, 310, 804, 361, 580, 42, 629, 367, 199, 416, 969, 567, 731, 791, 818, 353, 991, 943, 906, 879, 218, 934, 949, 374, 180, 867, 112, 893, 243, 144, 350, 159, 94, 329, 427, 850, 947, 175, 48, 566, 773, 98, 230, 586, 645, 335, 107, 279, 927, 219, 647, 93, 634, 307, 603, 391, 742, 173, 155, 473, 33, 272, 100, 469, 873, 331, 981, 51, 284, 538, 639, 982, 412, 803, 322, 115, 197, 640, 24, 80, 747, 1, 445, 809, 646, 883, 870, 819, 569, 43, 989, 854, 67, 725, 625, 110, 930, 547, 756, 497, 318, 30, 565, 844, 780, 877, 75, 430, 901, 793, 874, 23, 250, 959, 333, 460, 233, 417, 364, 137, 678, 830, 84, 365, 733, 502, 880, 808, 425, 836, 290, 498, 851, 986, 132, 396, 786, 606, 622, 371, 429, 334, 201, 325, 280, 287, 719, 894, 688, 362, 693, 36, 689, 776, 899, 534, 525, 288, 889, 813, 585, 900, 864, 405, 875, 626, 728, 139, 208, 221, 600, 876, 605, 424, 950, 319, 291, 215, 182, 696, 771, 63, 251, 898, 520, 171, 74, 858, 575, 746, 972, 871, 437, 229, 953, 477, 448, 343, 192, 933, 235, 966, 293, 561, 493, 832, 729, 475, 378, 360, 668, 738, 281, 518, 535, 409, 787, 450, 278, 940, 754, 440, 961, 939, 326, 677, 544, 492, 380, 282, 5, 126, 102, 584, 915, 237, 624, 685, 807, 453, 878, 174, 868, 664, 784, 183, 203, 130, 337, 865, 526, 710, 816, 385, 397, 928, 109, 484, 706, 81, 220, 415, 866, 920, 581, 596, 314, 12, 204, 980, 825, 705, 323, 168, 101, 907, 44, 413, 862, 394, 611, 903, 71, 303, 602, 485, 138, 487, 929, 41, 253, 759, 587, 666, 599, 433, 855, 302, 504, 499, 265, 608, 823, 811, 90, 1000, 57, 973, 537, 744, 709, 737, 311, 660, 618, 299, 921, 590, 675, 113, 455, 735, 363, 782, 740, 121, 777, 976, 494, 20, 468, 632, 563, 990, 285, 682, 722, 983, 442, 266, 514, 945, 92, 948, 390, 216, 328, 748, 963, 162, 827, 127, 548, 435, 289, 242, 301, 698, 64, 674, 463, 149, 551, 277, 411, 704, 944, 181, 103, 27, 908, 885, 160, 9, 700, 480, 667, 557, 31, 393, 305, 987, 186, 619, 579, 486, 78, 508, 471, 47, 631, 193, 238, 962, 496, 224, 723, 16, 763, 388, 292, 297, 849, 628, 46, 248, 775, 346, 523, 214, 542, 510, 441, 652, 711, 984, 926, 165, 268, 654, 206, 672, 914, 859, 116, 179, 457, 423, 576, 532, 712, 178, 200, 188, 73, 701, 154, 553, 490, 732, 779, 372, 72, 521, 227, 407, 923, 244, 545, 798, 21, 489, 118, 559, 799, 451, 527, 358, 172, 432, 458, 788, 750, 651, 170, 909, 708, 612, 256, 905, 61, 156, 39, 91, 884, 530, 344, 614, 638, 833, 536, 896, 627, 891, 604, 320, 853, 601, 270, 720, 577, 573, 821, 743, 50, 158, 669, 134, 95, 772, 246, 505, 449, 764, 330, 960, 275, 570, 695, 643, 399, 863, 29, 382, 28, 408, 258, 574, 954, 202, 758, 931, 500, 925, 56, 225, 176, 217, 351, 386, 240, 824, 76, 683, 550, 147, 856, 128, 212, 694, 609, 676, 789, 994, 2, 3, 169, 911, 741, 998, 263, 26, 298, 402, 996, 387, 86, 366, 247, 79, 428, 707, 419, 35, 17, 739, 757, 22, 32, 260, 817, 332, 85, 834, 528, 760, 7, 403, 211, 540, 140, 472, 715, 352, 752, 38, 797, 635, 55, 552, 125, 642, 952, 373, 543, 956, 792, 37, 40, 304, 161, 837, 454, 838, 691, 753, 479, 459, 681, 62, 467, 941, 714, 309, 822, 267, 767, 810, 19, 872, 478, 443, 375, 673, 999, 198, 616, 882, 269, 444, 589, 507, 657, 648, 465, 656, 383, 151, 88, 418, 52, 957, 66, 347, 406, 765, 717, 995, 187, 814, 848, 686, 349, 54, 395, 370, 802, 257, 597, 14, 721, 975, 641, 967, 68, 684, 410, 210, 327, 283, 184, 434, 662, 615, 655, 713, 97, 368, 659, 766, 918, 886, 734, 58, 829, 842, 831, 190, 902, 131, 65, 897, 207, 245, 400, 315, 312, 671, 117, 10, 951, 249, 978, 108, 988, 436, 196, 476, 474, 348, 861, 595, 223, 860, 414, 166, 801, 971, 881, 191, 60, 726, 558, 692, 461, 932, 153, 661, 826, 736, 231, 89, 13, 82, 796, 286, 636, 452, 937, 769, 271, 936, 157, 843, 633, 111, 483, 401, 778, 148, 228, 594, 916, 255, 812, 146, 800, 83, 11, 25, 702, 555, 650, 222, 481, 381, 355, 509, 129, 888, 501, 150, 274, 119, 431, 985, 716, 795, 727, 703, 213, 189, 687, 852, 252, 511, 964, 389, 620, 644, 541, 142, 751, 912, 997, 560, 426, 120, 135, 955, 306, 815, 992, 781, 338, 99, 745, 96, 482, 177, 610, 205, 571, 522, 913, 539, 261, 87, 232, 379, 34, 359, 805, 790, 562, 845, 313, 568, 582, 369, 294, 546, 938, 970, 572, 968, 623, 993, 924, 59, 857, 828, 300, 979, 462, 49, 749, 598, 341, 768, 136, 578, 839, 105, 420, 316, 470, 356, 680, 637, 446, 524, 317, 276, 895, 917, 774, 340, 840, 946, 697, 762, 163, 820, 259, 106, 8, 554, 783, 556, 438, 69, 254, 910, 513, 583, 617, 398, 308, 296, 730, 422, 491, 942]\n"
     ]
    }
   ],
   "source": [
    "sample_size = 1000\n",
    "file = open(\"data/data_\" + str(sample_size) + \".txt\", \"r\")\n",
    "arr = (file.read())[1:-1].split(', ')\n",
    "arr = [int(i) for i in arr]\n",
    "print(arr)"
   ]
  },
  {
   "cell_type": "markdown",
   "id": "3a36d56e",
   "metadata": {
    "id": "3a36d56e"
   },
   "source": [
    "- Sample code of reading the data list from file."
   ]
  },
  {
   "cell_type": "markdown",
   "id": "65d78df3",
   "metadata": {
    "id": "65d78df3"
   },
   "source": [
    "## (c) Analyze time complexity"
   ]
  },
  {
   "cell_type": "markdown",
   "id": "623ee29e",
   "metadata": {
    "id": "623ee29e"
   },
   "source": [
    "Assume the **threshold** = $S$\n",
    "\n",
    "- For **insertion sort** :\n",
    "\n",
    "Each subarray with the length of $S$\n",
    "<br>&emsp; - the best case of count $O(S)$ \n",
    "<br>&emsp; - the worst case $O(S^2)$\n",
    "\n",
    "<br>\n",
    "As there's $\\frac{n}{S}$ blocks: \n",
    "<br>&emsp; - the best case of total cost $O(S\\times\\frac{n}{S})=O(n)$ \n",
    "<br>&emsp; - the worst case $O(S^2\\times\\frac{n}{S})=O(Sn)$\n",
    "\n",
    "***\n",
    "- For **merge sort** :\n",
    "\n",
    "Since the length of threshold is $S$, there's would be $\\log(\\frac{n}{S})$ interations of merge sort\n",
    "\n",
    "For each iteration, the cost of merging is $O(n)$, thus total cost of merge sort part is $O(n\\times\\log(\\frac{n}{S}))$\n",
    "\n",
    "***\n",
    "- For **hybrid sort** :\n",
    "\n",
    "The best case : $O(n + n\\times \\log(\\frac{n}{S}))$\n",
    "\n",
    "The worst case : $O(Sn + n\\times\\log(\\frac{n}{S}))$"
   ]
  },
  {
   "cell_type": "code",
   "execution_count": 5,
   "id": "c20fe60d",
   "metadata": {
    "id": "c20fe60d"
   },
   "outputs": [],
   "source": [
    "import math\n",
    "import pandas as pd\n",
    "import numpy as np\n",
    "import matplotlib.pyplot as plt"
   ]
  },
  {
   "cell_type": "markdown",
   "id": "44d677df",
   "metadata": {
    "id": "44d677df"
   },
   "source": [
    "### i. With the value of S fixed, plot the number of key comparisons over different sizes of the input list n. Compare your empirical results with your theoretical analysis of the time complexity."
   ]
  },
  {
   "cell_type": "markdown",
   "id": "09975c0d",
   "metadata": {
    "id": "09975c0d"
   },
   "source": [
    "-  fix S (threshold) at 15, and consider the dataset_size at 1000, 10000, ... , 10000000"
   ]
  },
  {
   "cell_type": "code",
   "execution_count": 6,
   "id": "95b9af9c",
   "metadata": {
    "id": "95b9af9c",
    "scrolled": false
   },
   "outputs": [
    {
     "name": "stdout",
     "output_type": "stream",
     "text": [
      "   dataset_size  best_case  real_case  worst_case\n",
      "0          1000       7058       9976       21058\n",
      "1         10000     103808     133616      243808\n",
      "2        100000    1370274    1668928     2770274\n",
      "3       1000000   17024677   19951424    31024677\n",
      "4      10000000  203466060  233222784   343466060\n"
     ]
    }
   ],
   "source": [
    "datasets = [1000, 10000, 100000, 1000000, 10000000]\n",
    "\n",
    "best_case = []\n",
    "real_case = []\n",
    "worst_case = []\n",
    "\n",
    "for size in datasets:\n",
    "    file = open(\"data/data_\" + str(size) + \".txt\", \"r\")\n",
    "    arr = (file.read())[1:-1].split(', ')\n",
    "    arr = [int(i) for i in arr] #store number into arr\n",
    "    harr = arr #assign to hybrid_sort_array\n",
    "    best_case.append(int(size + size * math.log2(size / 15)))\n",
    "    real_case.append(hybrid_sort(0, size - 1, 15))\n",
    "    worst_case.append(int(size * 15 + size * math.log2(size / 15)))\n",
    "    \n",
    "df = pd.DataFrame({'dataset_size': datasets, \n",
    "                   'best_case': best_case, \n",
    "                   'real_case': real_case, \n",
    "                   'worst_case': worst_case})\n",
    "print(df)"
   ]
  },
  {
   "cell_type": "code",
   "execution_count": 7,
   "id": "0b35f52d",
   "metadata": {},
   "outputs": [
    {
     "data": {
      "image/png": "[encoded data removed]",
      "text/plain": [
       "<Figure size 576x360 with 1 Axes>"
      ]
     },
     "metadata": {
      "needs_background": "light"
     },
     "output_type": "display_data"
    }
   ],
   "source": [
    "fig, ax = plt.subplots(figsize=(8, 5))\n",
    "ax.ticklabel_format(useOffset=False, style='plain')\n",
    "plt.plot(datasets, best_case, label=\"best_case\")\n",
    "plt.plot(datasets, real_case, label=\"real_case\")\n",
    "plt.plot(datasets, worst_case, label=\"worst_case\")\n",
    "plt.xlabel('dataset')\n",
    "plt.ylabel('count')\n",
    "plt.legend()\n",
    "plt.show()"
   ]
  },
  {
   "cell_type": "markdown",
   "id": "6ed0b03b",
   "metadata": {
    "id": "6ed0b03b"
   },
   "source": [
    "### ii. With the input size n fixed, plot the number of key comparisons over different values of S. Compare your empirical results with your theoretical analysis of the time complexity."
   ]
  },
  {
   "cell_type": "markdown",
   "id": "4a04523d",
   "metadata": {
    "id": "4a04523d"
   },
   "source": [
    "- fix the dataset size at 10_000_000 (largest), and test on the threshold at [1, 30]"
   ]
  },
  {
   "cell_type": "code",
   "execution_count": 8,
   "id": "5dcc7f77",
   "metadata": {
    "id": "5dcc7f77"
   },
   "outputs": [],
   "source": [
    "def getCountsPerThreshold(size: int, printDataFrame: bool):\n",
    "    best_case = []\n",
    "    real_case = []\n",
    "    worst_case = []\n",
    "    file = open(\"data/data_\" + str(size) + \".txt\", \"r\")\n",
    "    arr = (file.read())[1:-1].split(', ')\n",
    "    arr = [int(i) for i in arr]\n",
    "    for threshold in range(1, 31):\n",
    "        global harr\n",
    "        harr = [i for i in arr]\n",
    "        best_case.append(int(size + size * math.log2(size / threshold)))\n",
    "        real_case.append(hybrid_sort(0, size - 1, threshold))\n",
    "        worst_case.append(int(size * threshold + size * math.log2(size / threshold)))\n",
    "\n",
    "    df = pd.DataFrame({'threshold': range(1, 31), 'best_case': best_case, 'real_case': real_case, 'worst_case': worst_case})\n",
    "    if printDataFrame:\n",
    "        print(df)\n",
    "    plt.plot(range(1, 31), best_case, label=\"best_case\")\n",
    "    plt.plot(range(1, 31), real_case, label=\"real_case\")\n",
    "    plt.plot(range(1, 31), worst_case, label=\"worst_case\")\n",
    "    plt.ylabel('count')\n",
    "    plt.legend()\n",
    "    plt.show()\n",
    "    return real_case\n"
   ]
  },
  {
   "cell_type": "code",
   "execution_count": 17,
   "id": "8d376cc7",
   "metadata": {},
   "outputs": [
    {
     "name": "stdout",
     "output_type": "stream",
     "text": [
      "    threshold  best_case  real_case  worst_case\n",
      "0           1  242534966  233222784   242534966\n",
      "1           2  232534966  226932893   242534966\n",
      "2           3  226685341  223710582   246685341\n",
      "3           4  222534966  222737702   252534966\n",
      "4           5  219315685  219517906   259315685\n",
      "5           6  216685341  219517906   266685341\n",
      "6           7  214461417  219517906   274461417\n",
      "7           8  212534966  219517906   282534966\n",
      "8           9  210835716  220004250   290835716\n",
      "9          10  209315685  221411087   299315685\n",
      "10         11  207940650  221411087   307940650\n",
      "11         12  206685341  221411087   316685341\n",
      "12         13  205530569  221411087   325530569\n",
      "13         14  204461417  221411087   334461417\n",
      "14         15  203466060  221411087   343466060\n",
      "15         16  202534966  221411087   352534966\n",
      "16         17  201660338  221411087   361660338\n",
      "17         18  200835716  221411087   370835716\n",
      "18         19  200055691  234048568   380055691\n",
      "19         20  199315685  235200878   389315685\n",
      "20         21  198611792  235200878   398611792\n",
      "21         22  197940650  235200878   407940650\n",
      "22         23  197299347  235200878   417299347\n",
      "23         24  196685341  235200878   426685341\n",
      "24         25  196096404  235200878   436096404\n",
      "25         26  195530569  235200878   445530569\n",
      "26         27  194986091  235200878   454986091\n",
      "27         28  194461417  235200878   464461417\n",
      "28         29  193955156  235200878   473955156\n",
      "29         30  193466060  235200878   483466060\n"
     ]
    },
    {
     "data": {
      "image/png": "[encoded data removed]",
      "text/plain": [
       "<Figure size 432x288 with 1 Axes>"
      ]
     },
     "metadata": {
      "needs_background": "light"
     },
     "output_type": "display_data"
    }
   ],
   "source": [
    "countsPerThreshold_10m = getCountsPerThreshold(10_000_000, True)"
   ]
  },
  {
   "cell_type": "markdown",
   "id": "e89ffb52",
   "metadata": {
    "id": "e89ffb52"
   },
   "source": [
    "- You may find that when threshold is very small, the real_case of key comparison may be lower than best_case of expectation. That's because when the data is randomly generated, the real case may be less than expected case."
   ]
  },
  {
   "cell_type": "markdown",
   "id": "24cee835",
   "metadata": {
    "id": "24cee835"
   },
   "source": [
    "### iii. Using different sizes of input datasets, study how to determine an optimal value of S for the best performance of this hybrid algorithm."
   ]
  },
  {
   "cell_type": "markdown",
   "id": "7229e1da",
   "metadata": {
    "id": "7229e1da"
   },
   "source": [
    "- Plot values of s(threshold) against count(number of comparisons) for size of N in [1000, 10_000, 100_000, 1_000_000, 10_000_000]."
   ]
  },
  {
   "cell_type": "code",
   "execution_count": 18,
   "id": "9f8fc9e4",
   "metadata": {
    "id": "9f8fc9e4",
    "scrolled": false
   },
   "outputs": [],
   "source": [
    "def getMinThresholdRange(counts) -> (int,int):\n",
    "    minThreshold, maxThreshold = 0, 0\n",
    "    minCount = float('infinity')\n",
    "    \n",
    "    for index, count in enumerate(counts):\n",
    "        if count < minCount:\n",
    "            minCount, minThreshold = count, index + 1\n",
    "        if count == minCount:\n",
    "            maxThreshold = index + 1\n",
    "    return (minThreshold, maxThreshold)\n",
    "            "
   ]
  },
  {
   "cell_type": "code",
   "execution_count": 19,
   "id": "23ad75ec",
   "metadata": {},
   "outputs": [
    {
     "data": {
      "image/png": "[encoded data removed]",
      "text/plain": [
       "<Figure size 432x288 with 1 Axes>"
      ]
     },
     "metadata": {
      "needs_background": "light"
     },
     "output_type": "display_data"
    },
    {
     "name": "stdout",
     "output_type": "stream",
     "text": [
      "For input size 1000, threshold which yields the minimum number of comparisons is [8, 14]\n"
     ]
    },
    {
     "data": {
      "image/png": "[encoded data removed]",
      "text/plain": [
       "<Figure size 432x288 with 1 Axes>"
      ]
     },
     "metadata": {
      "needs_background": "light"
     },
     "output_type": "display_data"
    },
    {
     "name": "stdout",
     "output_type": "stream",
     "text": [
      "For input size 10000, threshold which yields the minimum number of comparisons is [5, 8]\n"
     ]
    },
    {
     "data": {
      "image/png": "[encoded data removed]",
      "text/plain": [
       "<Figure size 432x288 with 1 Axes>"
      ]
     },
     "metadata": {
      "needs_background": "light"
     },
     "output_type": "display_data"
    },
    {
     "name": "stdout",
     "output_type": "stream",
     "text": [
      "For input size 100000, threshold which yields the minimum number of comparisons is [7, 11]\n"
     ]
    },
    {
     "data": {
      "image/png": "[encoded data removed]",
      "text/plain": [
       "<Figure size 432x288 with 1 Axes>"
      ]
     },
     "metadata": {
      "needs_background": "light"
     },
     "output_type": "display_data"
    },
    {
     "name": "stdout",
     "output_type": "stream",
     "text": [
      "For input size 1000000, threshold which yields the minimum number of comparisons is [8, 14]\n",
      "For input size 10000000, threshold which yields the minimum number of comparisons is [5, 8]\n"
     ]
    }
   ],
   "source": [
    "# omit input size of 10million as it is already calculated above\n",
    "inputSizes = [1000, 10_000, 100_000, 1_000_000]\n",
    "result_dict = {}\n",
    "\n",
    "for size in inputSizes:\n",
    "    counts = getCountsPerThreshold(size, False)\n",
    "    minThreshold, maxThreshold = getMinThresholdRange(counts)\n",
    "    result_dict[size] = counts\n",
    "    print(f\"For input size {size}, threshold which yields the minimum number of comparisons is [{minThreshold}, {maxThreshold}]\")\n",
    "    \n",
    "result_dict[10_000_000] = countsPerThreshold_10m\n",
    "minThreshold_10m, maxThreshold_10m = getMinThresholdRange(countsPerThreshold_10m)\n",
    "print(f\"For input size 10000000, threshold which yields the minimum number of comparisons is [{minThreshold_10m}, {maxThreshold_10m}]\")"
   ]
  },
  {
   "cell_type": "code",
   "execution_count": 21,
   "id": "d405650b",
   "metadata": {},
   "outputs": [
    {
     "data": {
      "text/html": [
       "<style type=\"text/css\">\n",
       "#T_71f97_row4_col1, #T_71f97_row4_col4, #T_71f97_row5_col1, #T_71f97_row5_col4, #T_71f97_row6_col1, #T_71f97_row6_col2, #T_71f97_row6_col4, #T_71f97_row7_col0, #T_71f97_row7_col1, #T_71f97_row7_col2, #T_71f97_row7_col3, #T_71f97_row7_col4, #T_71f97_row8_col0, #T_71f97_row8_col2, #T_71f97_row8_col3, #T_71f97_row9_col0, #T_71f97_row9_col2, #T_71f97_row9_col3, #T_71f97_row10_col0, #T_71f97_row10_col2, #T_71f97_row10_col3, #T_71f97_row11_col0, #T_71f97_row11_col3, #T_71f97_row12_col0, #T_71f97_row12_col3, #T_71f97_row13_col0, #T_71f97_row13_col3 {\n",
       "  color: white;\n",
       "  background-color: darkblue;\n",
       "}\n",
       "</style>\n",
       "<table id=\"T_71f97_\">\n",
       "  <thead>\n",
       "    <tr>\n",
       "      <th class=\"blank level0\" >&nbsp;</th>\n",
       "      <th class=\"col_heading level0 col0\" >1000</th>\n",
       "      <th class=\"col_heading level0 col1\" >10000</th>\n",
       "      <th class=\"col_heading level0 col2\" >100000</th>\n",
       "      <th class=\"col_heading level0 col3\" >1000000</th>\n",
       "      <th class=\"col_heading level0 col4\" >10000000</th>\n",
       "    </tr>\n",
       "  </thead>\n",
       "  <tbody>\n",
       "    <tr>\n",
       "      <th id=\"T_71f97_level0_row0\" class=\"row_heading level0 row0\" >1</th>\n",
       "      <td id=\"T_71f97_row0_col0\" class=\"data row0 col0\" >9976</td>\n",
       "      <td id=\"T_71f97_row0_col1\" class=\"data row0 col1\" >133616</td>\n",
       "      <td id=\"T_71f97_row0_col2\" class=\"data row0 col2\" >1668928</td>\n",
       "      <td id=\"T_71f97_row0_col3\" class=\"data row0 col3\" >19951424</td>\n",
       "      <td id=\"T_71f97_row0_col4\" class=\"data row0 col4\" >233222784</td>\n",
       "    </tr>\n",
       "    <tr>\n",
       "      <th id=\"T_71f97_level0_row1\" class=\"row_heading level0 row1\" >2</th>\n",
       "      <td id=\"T_71f97_row1_col0\" class=\"data row1 col0\" >9257</td>\n",
       "      <td id=\"T_71f97_row1_col1\" class=\"data row1 col1\" >127462</td>\n",
       "      <td id=\"T_71f97_row1_col2\" class=\"data row1 col2\" >1617295</td>\n",
       "      <td id=\"T_71f97_row1_col3\" class=\"data row1 col3\" >19237819</td>\n",
       "      <td id=\"T_71f97_row1_col4\" class=\"data row1 col4\" >226932893</td>\n",
       "    </tr>\n",
       "    <tr>\n",
       "      <th id=\"T_71f97_level0_row2\" class=\"row_heading level0 row2\" >3</th>\n",
       "      <td id=\"T_71f97_row2_col0\" class=\"data row2 col0\" >9205</td>\n",
       "      <td id=\"T_71f97_row2_col1\" class=\"data row2 col1\" >123827</td>\n",
       "      <td id=\"T_71f97_row2_col2\" class=\"data row2 col2\" >1555030</td>\n",
       "      <td id=\"T_71f97_row2_col3\" class=\"data row2 col3\" >19140637</td>\n",
       "      <td id=\"T_71f97_row2_col4\" class=\"data row2 col4\" >223710582</td>\n",
       "    </tr>\n",
       "    <tr>\n",
       "      <th id=\"T_71f97_level0_row3\" class=\"row_heading level0 row3\" >4</th>\n",
       "      <td id=\"T_71f97_row3_col0\" class=\"data row3 col0\" >8745</td>\n",
       "      <td id=\"T_71f97_row3_col1\" class=\"data row3 col1\" >123353</td>\n",
       "      <td id=\"T_71f97_row3_col2\" class=\"data row3 col2\" >1551611</td>\n",
       "      <td id=\"T_71f97_row3_col3\" class=\"data row3 col3\" >18712471</td>\n",
       "      <td id=\"T_71f97_row3_col4\" class=\"data row3 col4\" >222737702</td>\n",
       "    </tr>\n",
       "    <tr>\n",
       "      <th id=\"T_71f97_level0_row4\" class=\"row_heading level0 row4\" >5</th>\n",
       "      <td id=\"T_71f97_row4_col0\" class=\"data row4 col0\" >8745</td>\n",
       "      <td id=\"T_71f97_row4_col1\" class=\"data row4 col1\" >119805</td>\n",
       "      <td id=\"T_71f97_row4_col2\" class=\"data row4 col2\" >1551611</td>\n",
       "      <td id=\"T_71f97_row4_col3\" class=\"data row4 col3\" >18712471</td>\n",
       "      <td id=\"T_71f97_row4_col4\" class=\"data row4 col4\" >219517906</td>\n",
       "    </tr>\n",
       "    <tr>\n",
       "      <th id=\"T_71f97_level0_row5\" class=\"row_heading level0 row5\" >6</th>\n",
       "      <td id=\"T_71f97_row5_col0\" class=\"data row5 col0\" >8745</td>\n",
       "      <td id=\"T_71f97_row5_col1\" class=\"data row5 col1\" >119805</td>\n",
       "      <td id=\"T_71f97_row5_col2\" class=\"data row5 col2\" >1529390</td>\n",
       "      <td id=\"T_71f97_row5_col3\" class=\"data row5 col3\" >18712471</td>\n",
       "      <td id=\"T_71f97_row5_col4\" class=\"data row5 col4\" >219517906</td>\n",
       "    </tr>\n",
       "    <tr>\n",
       "      <th id=\"T_71f97_level0_row6\" class=\"row_heading level0 row6\" >7</th>\n",
       "      <td id=\"T_71f97_row6_col0\" class=\"data row6 col0\" >8724</td>\n",
       "      <td id=\"T_71f97_row6_col1\" class=\"data row6 col1\" >119805</td>\n",
       "      <td id=\"T_71f97_row6_col2\" class=\"data row6 col2\" >1527511</td>\n",
       "      <td id=\"T_71f97_row6_col3\" class=\"data row6 col3\" >18664577</td>\n",
       "      <td id=\"T_71f97_row6_col4\" class=\"data row6 col4\" >219517906</td>\n",
       "    </tr>\n",
       "    <tr>\n",
       "      <th id=\"T_71f97_level0_row7\" class=\"row_heading level0 row7\" >8</th>\n",
       "      <td id=\"T_71f97_row7_col0\" class=\"data row7 col0\" >8719</td>\n",
       "      <td id=\"T_71f97_row7_col1\" class=\"data row7 col1\" >119805</td>\n",
       "      <td id=\"T_71f97_row7_col2\" class=\"data row7 col2\" >1527511</td>\n",
       "      <td id=\"T_71f97_row7_col3\" class=\"data row7 col3\" >18664130</td>\n",
       "      <td id=\"T_71f97_row7_col4\" class=\"data row7 col4\" >219517906</td>\n",
       "    </tr>\n",
       "    <tr>\n",
       "      <th id=\"T_71f97_level0_row8\" class=\"row_heading level0 row8\" >9</th>\n",
       "      <td id=\"T_71f97_row8_col0\" class=\"data row8 col0\" >8719</td>\n",
       "      <td id=\"T_71f97_row8_col1\" class=\"data row8 col1\" >119917</td>\n",
       "      <td id=\"T_71f97_row8_col2\" class=\"data row8 col2\" >1527511</td>\n",
       "      <td id=\"T_71f97_row8_col3\" class=\"data row8 col3\" >18664130</td>\n",
       "      <td id=\"T_71f97_row8_col4\" class=\"data row8 col4\" >220004250</td>\n",
       "    </tr>\n",
       "    <tr>\n",
       "      <th id=\"T_71f97_level0_row9\" class=\"row_heading level0 row9\" >10</th>\n",
       "      <td id=\"T_71f97_row9_col0\" class=\"data row9 col0\" >8719</td>\n",
       "      <td id=\"T_71f97_row9_col1\" class=\"data row9 col1\" >121881</td>\n",
       "      <td id=\"T_71f97_row9_col2\" class=\"data row9 col2\" >1527511</td>\n",
       "      <td id=\"T_71f97_row9_col3\" class=\"data row9 col3\" >18664130</td>\n",
       "      <td id=\"T_71f97_row9_col4\" class=\"data row9 col4\" >221411087</td>\n",
       "    </tr>\n",
       "    <tr>\n",
       "      <th id=\"T_71f97_level0_row10\" class=\"row_heading level0 row10\" >11</th>\n",
       "      <td id=\"T_71f97_row10_col0\" class=\"data row10 col0\" >8719</td>\n",
       "      <td id=\"T_71f97_row10_col1\" class=\"data row10 col1\" >121881</td>\n",
       "      <td id=\"T_71f97_row10_col2\" class=\"data row10 col2\" >1527511</td>\n",
       "      <td id=\"T_71f97_row10_col3\" class=\"data row10 col3\" >18664130</td>\n",
       "      <td id=\"T_71f97_row10_col4\" class=\"data row10 col4\" >221411087</td>\n",
       "    </tr>\n",
       "    <tr>\n",
       "      <th id=\"T_71f97_level0_row11\" class=\"row_heading level0 row11\" >12</th>\n",
       "      <td id=\"T_71f97_row11_col0\" class=\"data row11 col0\" >8719</td>\n",
       "      <td id=\"T_71f97_row11_col1\" class=\"data row11 col1\" >121881</td>\n",
       "      <td id=\"T_71f97_row11_col2\" class=\"data row11 col2\" >1566488</td>\n",
       "      <td id=\"T_71f97_row11_col3\" class=\"data row11 col3\" >18664130</td>\n",
       "      <td id=\"T_71f97_row11_col4\" class=\"data row11 col4\" >221411087</td>\n",
       "    </tr>\n",
       "    <tr>\n",
       "      <th id=\"T_71f97_level0_row12\" class=\"row_heading level0 row12\" >13</th>\n",
       "      <td id=\"T_71f97_row12_col0\" class=\"data row12 col0\" >8719</td>\n",
       "      <td id=\"T_71f97_row12_col1\" class=\"data row12 col1\" >121881</td>\n",
       "      <td id=\"T_71f97_row12_col2\" class=\"data row12 col2\" >1579898</td>\n",
       "      <td id=\"T_71f97_row12_col3\" class=\"data row12 col3\" >18664130</td>\n",
       "      <td id=\"T_71f97_row12_col4\" class=\"data row12 col4\" >221411087</td>\n",
       "    </tr>\n",
       "    <tr>\n",
       "      <th id=\"T_71f97_level0_row13\" class=\"row_heading level0 row13\" >14</th>\n",
       "      <td id=\"T_71f97_row13_col0\" class=\"data row13 col0\" >8719</td>\n",
       "      <td id=\"T_71f97_row13_col1\" class=\"data row13 col1\" >121881</td>\n",
       "      <td id=\"T_71f97_row13_col2\" class=\"data row13 col2\" >1579898</td>\n",
       "      <td id=\"T_71f97_row13_col3\" class=\"data row13 col3\" >18664130</td>\n",
       "      <td id=\"T_71f97_row13_col4\" class=\"data row13 col4\" >221411087</td>\n",
       "    </tr>\n",
       "    <tr>\n",
       "      <th id=\"T_71f97_level0_row14\" class=\"row_heading level0 row14\" >15</th>\n",
       "      <td id=\"T_71f97_row14_col0\" class=\"data row14 col0\" >9064</td>\n",
       "      <td id=\"T_71f97_row14_col1\" class=\"data row14 col1\" >121881</td>\n",
       "      <td id=\"T_71f97_row14_col2\" class=\"data row14 col2\" >1579898</td>\n",
       "      <td id=\"T_71f97_row14_col3\" class=\"data row14 col3\" >19289406</td>\n",
       "      <td id=\"T_71f97_row14_col4\" class=\"data row14 col4\" >221411087</td>\n",
       "    </tr>\n",
       "    <tr>\n",
       "      <th id=\"T_71f97_level0_row15\" class=\"row_heading level0 row15\" >16</th>\n",
       "      <td id=\"T_71f97_row15_col0\" class=\"data row15 col0\" >9770</td>\n",
       "      <td id=\"T_71f97_row15_col1\" class=\"data row15 col1\" >121881</td>\n",
       "      <td id=\"T_71f97_row15_col2\" class=\"data row15 col2\" >1579898</td>\n",
       "      <td id=\"T_71f97_row15_col3\" class=\"data row15 col3\" >19561453</td>\n",
       "      <td id=\"T_71f97_row15_col4\" class=\"data row15 col4\" >221411087</td>\n",
       "    </tr>\n",
       "    <tr>\n",
       "      <th id=\"T_71f97_level0_row16\" class=\"row_heading level0 row16\" >17</th>\n",
       "      <td id=\"T_71f97_row16_col0\" class=\"data row16 col0\" >9770</td>\n",
       "      <td id=\"T_71f97_row16_col1\" class=\"data row16 col1\" >121881</td>\n",
       "      <td id=\"T_71f97_row16_col2\" class=\"data row16 col2\" >1579898</td>\n",
       "      <td id=\"T_71f97_row16_col3\" class=\"data row16 col3\" >19561453</td>\n",
       "      <td id=\"T_71f97_row16_col4\" class=\"data row16 col4\" >221411087</td>\n",
       "    </tr>\n",
       "    <tr>\n",
       "      <th id=\"T_71f97_level0_row17\" class=\"row_heading level0 row17\" >18</th>\n",
       "      <td id=\"T_71f97_row17_col0\" class=\"data row17 col0\" >9770</td>\n",
       "      <td id=\"T_71f97_row17_col1\" class=\"data row17 col1\" >121881</td>\n",
       "      <td id=\"T_71f97_row17_col2\" class=\"data row17 col2\" >1579898</td>\n",
       "      <td id=\"T_71f97_row17_col3\" class=\"data row17 col3\" >19561453</td>\n",
       "      <td id=\"T_71f97_row17_col4\" class=\"data row17 col4\" >221411087</td>\n",
       "    </tr>\n",
       "    <tr>\n",
       "      <th id=\"T_71f97_level0_row18\" class=\"row_heading level0 row18\" >19</th>\n",
       "      <td id=\"T_71f97_row18_col0\" class=\"data row18 col0\" >9770</td>\n",
       "      <td id=\"T_71f97_row18_col1\" class=\"data row18 col1\" >128463</td>\n",
       "      <td id=\"T_71f97_row18_col2\" class=\"data row18 col2\" >1579898</td>\n",
       "      <td id=\"T_71f97_row18_col3\" class=\"data row18 col3\" >19561453</td>\n",
       "      <td id=\"T_71f97_row18_col4\" class=\"data row18 col4\" >234048568</td>\n",
       "    </tr>\n",
       "    <tr>\n",
       "      <th id=\"T_71f97_level0_row19\" class=\"row_heading level0 row19\" >20</th>\n",
       "      <td id=\"T_71f97_row19_col0\" class=\"data row19 col0\" >9770</td>\n",
       "      <td id=\"T_71f97_row19_col1\" class=\"data row19 col1\" >136935</td>\n",
       "      <td id=\"T_71f97_row19_col2\" class=\"data row19 col2\" >1579898</td>\n",
       "      <td id=\"T_71f97_row19_col3\" class=\"data row19 col3\" >19561453</td>\n",
       "      <td id=\"T_71f97_row19_col4\" class=\"data row19 col4\" >235200878</td>\n",
       "    </tr>\n",
       "    <tr>\n",
       "      <th id=\"T_71f97_level0_row20\" class=\"row_heading level0 row20\" >21</th>\n",
       "      <td id=\"T_71f97_row20_col0\" class=\"data row20 col0\" >9770</td>\n",
       "      <td id=\"T_71f97_row20_col1\" class=\"data row20 col1\" >136935</td>\n",
       "      <td id=\"T_71f97_row20_col2\" class=\"data row20 col2\" >1579898</td>\n",
       "      <td id=\"T_71f97_row20_col3\" class=\"data row20 col3\" >19561453</td>\n",
       "      <td id=\"T_71f97_row20_col4\" class=\"data row20 col4\" >235200878</td>\n",
       "    </tr>\n",
       "    <tr>\n",
       "      <th id=\"T_71f97_level0_row21\" class=\"row_heading level0 row21\" >22</th>\n",
       "      <td id=\"T_71f97_row21_col0\" class=\"data row21 col0\" >9770</td>\n",
       "      <td id=\"T_71f97_row21_col1\" class=\"data row21 col1\" >136935</td>\n",
       "      <td id=\"T_71f97_row21_col2\" class=\"data row21 col2\" >1579898</td>\n",
       "      <td id=\"T_71f97_row21_col3\" class=\"data row21 col3\" >19561453</td>\n",
       "      <td id=\"T_71f97_row21_col4\" class=\"data row21 col4\" >235200878</td>\n",
       "    </tr>\n",
       "    <tr>\n",
       "      <th id=\"T_71f97_level0_row22\" class=\"row_heading level0 row22\" >23</th>\n",
       "      <td id=\"T_71f97_row22_col0\" class=\"data row22 col0\" >9770</td>\n",
       "      <td id=\"T_71f97_row22_col1\" class=\"data row22 col1\" >136935</td>\n",
       "      <td id=\"T_71f97_row22_col2\" class=\"data row22 col2\" >1579898</td>\n",
       "      <td id=\"T_71f97_row22_col3\" class=\"data row22 col3\" >19561453</td>\n",
       "      <td id=\"T_71f97_row22_col4\" class=\"data row22 col4\" >235200878</td>\n",
       "    </tr>\n",
       "    <tr>\n",
       "      <th id=\"T_71f97_level0_row23\" class=\"row_heading level0 row23\" >24</th>\n",
       "      <td id=\"T_71f97_row23_col0\" class=\"data row23 col0\" >9770</td>\n",
       "      <td id=\"T_71f97_row23_col1\" class=\"data row23 col1\" >136935</td>\n",
       "      <td id=\"T_71f97_row23_col2\" class=\"data row23 col2\" >1695737</td>\n",
       "      <td id=\"T_71f97_row23_col3\" class=\"data row23 col3\" >19561453</td>\n",
       "      <td id=\"T_71f97_row23_col4\" class=\"data row23 col4\" >235200878</td>\n",
       "    </tr>\n",
       "    <tr>\n",
       "      <th id=\"T_71f97_level0_row24\" class=\"row_heading level0 row24\" >25</th>\n",
       "      <td id=\"T_71f97_row24_col0\" class=\"data row24 col0\" >9770</td>\n",
       "      <td id=\"T_71f97_row24_col1\" class=\"data row24 col1\" >136935</td>\n",
       "      <td id=\"T_71f97_row24_col2\" class=\"data row24 col2\" >1783967</td>\n",
       "      <td id=\"T_71f97_row24_col3\" class=\"data row24 col3\" >19561453</td>\n",
       "      <td id=\"T_71f97_row24_col4\" class=\"data row24 col4\" >235200878</td>\n",
       "    </tr>\n",
       "    <tr>\n",
       "      <th id=\"T_71f97_level0_row25\" class=\"row_heading level0 row25\" >26</th>\n",
       "      <td id=\"T_71f97_row25_col0\" class=\"data row25 col0\" >9770</td>\n",
       "      <td id=\"T_71f97_row25_col1\" class=\"data row25 col1\" >136935</td>\n",
       "      <td id=\"T_71f97_row25_col2\" class=\"data row25 col2\" >1783967</td>\n",
       "      <td id=\"T_71f97_row25_col3\" class=\"data row25 col3\" >19561453</td>\n",
       "      <td id=\"T_71f97_row25_col4\" class=\"data row25 col4\" >235200878</td>\n",
       "    </tr>\n",
       "    <tr>\n",
       "      <th id=\"T_71f97_level0_row26\" class=\"row_heading level0 row26\" >27</th>\n",
       "      <td id=\"T_71f97_row26_col0\" class=\"data row26 col0\" >9770</td>\n",
       "      <td id=\"T_71f97_row26_col1\" class=\"data row26 col1\" >136935</td>\n",
       "      <td id=\"T_71f97_row26_col2\" class=\"data row26 col2\" >1783967</td>\n",
       "      <td id=\"T_71f97_row26_col3\" class=\"data row26 col3\" >19561453</td>\n",
       "      <td id=\"T_71f97_row26_col4\" class=\"data row26 col4\" >235200878</td>\n",
       "    </tr>\n",
       "    <tr>\n",
       "      <th id=\"T_71f97_level0_row27\" class=\"row_heading level0 row27\" >28</th>\n",
       "      <td id=\"T_71f97_row27_col0\" class=\"data row27 col0\" >9770</td>\n",
       "      <td id=\"T_71f97_row27_col1\" class=\"data row27 col1\" >136935</td>\n",
       "      <td id=\"T_71f97_row27_col2\" class=\"data row27 col2\" >1783967</td>\n",
       "      <td id=\"T_71f97_row27_col3\" class=\"data row27 col3\" >19561453</td>\n",
       "      <td id=\"T_71f97_row27_col4\" class=\"data row27 col4\" >235200878</td>\n",
       "    </tr>\n",
       "    <tr>\n",
       "      <th id=\"T_71f97_level0_row28\" class=\"row_heading level0 row28\" >29</th>\n",
       "      <td id=\"T_71f97_row28_col0\" class=\"data row28 col0\" >9770</td>\n",
       "      <td id=\"T_71f97_row28_col1\" class=\"data row28 col1\" >136935</td>\n",
       "      <td id=\"T_71f97_row28_col2\" class=\"data row28 col2\" >1783967</td>\n",
       "      <td id=\"T_71f97_row28_col3\" class=\"data row28 col3\" >19561453</td>\n",
       "      <td id=\"T_71f97_row28_col4\" class=\"data row28 col4\" >235200878</td>\n",
       "    </tr>\n",
       "    <tr>\n",
       "      <th id=\"T_71f97_level0_row29\" class=\"row_heading level0 row29\" >30</th>\n",
       "      <td id=\"T_71f97_row29_col0\" class=\"data row29 col0\" >9770</td>\n",
       "      <td id=\"T_71f97_row29_col1\" class=\"data row29 col1\" >136935</td>\n",
       "      <td id=\"T_71f97_row29_col2\" class=\"data row29 col2\" >1783967</td>\n",
       "      <td id=\"T_71f97_row29_col3\" class=\"data row29 col3\" >20867233</td>\n",
       "      <td id=\"T_71f97_row29_col4\" class=\"data row29 col4\" >235200878</td>\n",
       "    </tr>\n",
       "  </tbody>\n",
       "</table>\n"
      ],
      "text/plain": [
       "<pandas.io.formats.style.Styler at 0x7fb0e8083070>"
      ]
     },
     "execution_count": 21,
     "metadata": {},
     "output_type": "execute_result"
    }
   ],
   "source": [
    "def highlight_min(s, props=''):\n",
    "    return np.where(s == np.amin(s.values), props, '')\n",
    "\n",
    "result_df = pd.DataFrame(result_dict)\n",
    "result_df.index = np.arange(1, len(result_df)+1)\n",
    "presentable_result = result_df.style.apply(highlight_min, props='color:white;background-color:darkblue', axis=0)\n",
    "presentable_result"
   ]
  },
  {
   "cell_type": "markdown",
   "id": "3d38bfe9",
   "metadata": {
    "id": "3d38bfe9"
   },
   "source": [
    "## (d) Compare with original Mergesort"
   ]
  },
  {
   "cell_type": "code",
   "execution_count": null,
   "id": "6202d935",
   "metadata": {
    "id": "6202d935"
   },
   "outputs": [],
   "source": [
    "import timeit\n",
    "threshold = getMinThresholdRange(countsPerThreshold_10m)[0]\n",
    "size = 10_000_000\n",
    "\n",
    "file = open(\"data/data_\" + str(size) + \".txt\", \"r\")\n",
    "arr = (file.read())[1:-1].split(', ')\n",
    "\n",
    "harr = [int(i) for i in arr]\n",
    "time_start_hybrid = timeit.default_timer()\n",
    "count_hybrid = hybrid_sort(0, size - 1, threshold)\n",
    "time_end_hybrid = timeit.default_timer()\n",
    "\n",
    "marr = [int(i) for i in arr]\n",
    "time_start_merge = timeit.default_timer()\n",
    "count_merge = merge_sort(0, size - 1)\n",
    "time_end_merge = timeit.default_timer()\n",
    "\n",
    "frame = pd.DataFrame(np.array([['hybrid_sort', count_hybrid, time_end_hybrid - time_start_hybrid], \n",
    "                               ['merge_sort', count_merge, time_end_merge - time_start_merge]]),\n",
    "                   columns=['sort_functions', 'key_comparasions', 'time_cost'])\n",
    "print(frame)\n",
    "frame[['key_comparasions','time_cost']] = frame[['key_comparasions',\"time_cost\"]].apply(pd.to_numeric)\n",
    "\n",
    "frame[['key_comparasions','sort_functions']].plot(kind='bar',y='key_comparasions',x='sort_functions')\n",
    "frame[['time_cost','sort_functions']].plot(kind='bar',y='time_cost',x='sort_functions',color=\"green\")"
   ]
  },
  {
   "cell_type": "markdown",
   "id": "dc9045f0",
   "metadata": {},
   "source": []
  }
 ],
 "metadata": {
  "colab": {
   "collapsed_sections": [],
   "provenance": []
  },
  "kernelspec": {
   "display_name": "Python 3 (ipykernel)",
   "language": "python",
   "name": "python3"
  },
  "language_info": {
   "codemirror_mode": {
    "name": "ipython",
    "version": 3
   },
   "file_extension": ".py",
   "mimetype": "text/x-python",
   "name": "python",
   "nbconvert_exporter": "python",
   "pygments_lexer": "ipython3",
   "version": "3.8.12"
  }
 },
 "nbformat": 4,
 "nbformat_minor": 5
}
