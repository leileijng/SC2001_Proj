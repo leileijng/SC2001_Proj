{
 "cells": [
  {
   "cell_type": "code",
   "execution_count": null,
   "id": "347c66c5",
   "metadata": {},
   "outputs": [],
   "source": [
    "import random\n",
    "import time\n",
    "import matplotlib.pyplot as plt\n",
    "import csv\n",
    "import globalvar\n",
    "import timeit\n",
    "import sys\n",
    "\n",
    "# def generateArray(size, file):\n",
    "\n",
    "def generateArray(size):\n",
    "    my_list = []\n",
    "    for i in range(0, size):\n",
    "        num = random.randint(0, size)\n",
    "        my_list.append(num)\n",
    "        # writer = csv.writer(file, delimiter=',')\n",
    "        # writer.writerow([num])\n",
    "    return my_list\n"
   ]
  },
  {
   "cell_type": "code",
   "execution_count": 51,
   "id": "98b212e2",
   "metadata": {},
   "outputs": [],
   "source": [
    "def mergeSort(array):\n",
    "    # globalvar.kc = globalvar.kc + 1\n",
    "    mid = len(array)//2\n",
    "    left = array[:mid]\n",
    "    right = array[mid:]\n",
    "\n",
    "    # if (len(array)-0 <= 0):\n",
    "    #     return array\n",
    "    if (len(left) <= 1):\n",
    "        pass\n",
    "    else:\n",
    "        left = mergeSort(left)\n",
    "\n",
    "    if (len(right) <= 1):\n",
    "        pass\n",
    "    else:\n",
    "        right = mergeSort(right)\n",
    "\n",
    "    array = merge(left, right)\n",
    "    return array\n"
   ]
  },
  {
   "cell_type": "code",
   "execution_count": null,
   "id": "13eae401",
   "metadata": {},
   "outputs": [],
   "source": []
  },
  {
   "cell_type": "code",
   "execution_count": 105,
   "id": "fad04185",
   "metadata": {},
   "outputs": [],
   "source": [
    "def hybridmergesort(array, s):\n",
    "\n",
    "    # if (len(array) <= 1):\n",
    "    #     return array\n",
    "    # if (s == 0):\n",
    "    #     return mergeSort(array)\n",
    "    # globalvar.kc = globalvar.kc + 1\n",
    "    if (len(array) <= s):\n",
    "        # print(len(array))\n",
    "        return insertionsort(array)\n",
    "    # elif (len(array) <= 0):\n",
    "    #     return array\n",
    "    \n",
    "    mid = int((len(array))/2)\n",
    "    left = array[:mid]\n",
    "    right = array[mid:]\n",
    "    \n",
    "    count = 0 \n",
    "    # if (len(array) - (mid - len(left)) <= 0):\n",
    "    #     return array\n",
    "    left, c1 = hybridmergesort(left, s)\n",
    "    count += c1\n",
    "    right, c2 = hybridmergesort(right, s)\n",
    "    count += c2 \n",
    "    \n",
    "    arr, c = merge(left, right)\n",
    "    count += c\n",
    "    return arr, count\n"
   ]
  },
  {
   "cell_type": "code",
   "execution_count": 127,
   "id": "7491b519",
   "metadata": {},
   "outputs": [],
   "source": [
    "def merge(left, right):\n",
    "    sorted_array = []\n",
    "    a = 0\n",
    "    b = 0\n",
    "    # if (left[0] == right[0]):\n",
    "    #     return\n",
    "    count = 0\n",
    "    while (a < len(left) or b < len(right)):\n",
    "        count += 1\n",
    "        if (b == len(right)) or ((a != len(left)) and (left[a] < right[b])):\n",
    "            sorted_array.append(left[a])\n",
    "            a += 1\n",
    "        else:\n",
    "            sorted_array.append(right[b])\n",
    "            b += 1\n",
    "\n",
    "\n",
    "    return sorted_array, count\n",
    "\n"
   ]
  },
  {
   "cell_type": "code",
   "execution_count": 110,
   "id": "b3951eb3",
   "metadata": {},
   "outputs": [],
   "source": [
    "def insertionsort(array):\n",
    "    count = 0\n",
    "    if len(array) <= 1:\n",
    "        return array, count\n",
    "    for i in range(1, len(array)):\n",
    "        for j in range(i, 0, -1):\n",
    "            result = compare(array[j], array[j-1]) \n",
    "            count += 1\n",
    "            if (result == -1):\n",
    "                tmp = array[j-1]\n",
    "                array[j-1] = array[j]\n",
    "                array[j] = tmp\n",
    "            else:\n",
    "                break\n",
    "    #print(count)\n",
    "    return array, count"
   ]
  },
  {
   "cell_type": "code",
   "execution_count": 111,
   "id": "b0cc5eb1",
   "metadata": {},
   "outputs": [],
   "source": [
    "\n",
    "def compare(a, b):\n",
    "    # globalvar.kc = globalvar.kc + 1\n",
    "    if (a > b):\n",
    "        return 1\n",
    "    elif (a < b):\n",
    "        return -1\n",
    "    else:\n",
    "        return 0\n"
   ]
  },
  {
   "cell_type": "code",
   "execution_count": 118,
   "id": "bb09ffca",
   "metadata": {},
   "outputs": [],
   "source": [
    "def readData():\n",
    "    sample_size = 1000\n",
    "    file = open(\"data/data_\" + str(sample_size) + \".txt\", \"r\")\n",
    "    arr = (file.read())[1:-1].split(', ')\n",
    "    arr = [int(i) for i in arr]\n",
    "    return arr"
   ]
  },
  {
   "cell_type": "code",
   "execution_count": 130,
   "id": "ed784f03",
   "metadata": {},
   "outputs": [
    {
     "name": "stdout",
     "output_type": "stream",
     "text": [
      "9976\n",
      "9488\n",
      "9452\n",
      "9199\n",
      "9199\n",
      "9199\n",
      "9184\n",
      "9275\n",
      "9275\n",
      "9275\n",
      "9275\n",
      "9275\n",
      "9275\n",
      "9275\n",
      "9714\n",
      "10514\n",
      "10514\n",
      "10514\n",
      "10514\n"
     ]
    }
   ],
   "source": [
    "for i in range(1,20):\n",
    "    arr, k = hybridmergesort(readData(), i)\n",
    "    print(k)"
   ]
  },
  {
   "cell_type": "code",
   "execution_count": null,
   "id": "8184b426",
   "metadata": {},
   "outputs": [],
   "source": []
  }
 ],
 "metadata": {
  "kernelspec": {
   "display_name": "Python 3 (ipykernel)",
   "language": "python",
   "name": "python3"
  },
  "language_info": {
   "codemirror_mode": {
    "name": "ipython",
    "version": 3
   },
   "file_extension": ".py",
   "mimetype": "text/x-python",
   "name": "python",
   "nbconvert_exporter": "python",
   "pygments_lexer": "ipython3",
   "version": "3.8.12"
  }
 },
 "nbformat": 4,
 "nbformat_minor": 5
}
